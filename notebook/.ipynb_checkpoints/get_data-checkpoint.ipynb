{
 "cells": [
  {
   "cell_type": "code",
   "execution_count": 1,
   "metadata": {},
   "outputs": [],
   "source": [
    "import pymysql\n",
    "import pandas as pd\n",
    "import numpy as np\n",
    "import time\n",
    "import datetime\n",
    "import os\n",
    "from sqlalchemy import create_engine  "
   ]
  },
  {
   "cell_type": "code",
   "execution_count": null,
   "metadata": {},
   "outputs": [],
   "source": [
    "db_info = {'user':'bo.ma',  \n",
    "            'password':'123456',  \n",
    "            'host':'192.168.100.141',  \n",
    "            'database':'siyecap'  # 这里我们事先指定了数据库，后续操作只需要表即可\n",
    "            } \n",
    "\n",
    "# 进行查询的语句\n",
    "\n",
    "engine = create_engine('mysql+pymysql://%(user)s:%(password)s@%(host)s/%(database)s?charset=utf8' % db_info,encoding='utf-8') \n",
    "#这里直接使用pymysql连接,echo=True，会显示在加载数据库所执行的SQL语句。"
   ]
  },
  {
   "cell_type": "code",
   "execution_count": 5,
   "metadata": {},
   "outputs": [],
   "source": [
    "data_path = r'F:\\bma\\project\\data'\n",
    "startdate = '2007-01-01'\n",
    "enddate = '2019-12-01'\n",
    "data_name = 'open,close,high,low,tradingstatus,volume,turnoverrate,volumeyuan'\n",
    "sql = '''SELECT symbol,date,%s FROM siyecap.stockprice where date between '%s' and '%s';'''%(data_name,startdate,enddate)"
   ]
  },
  {
   "cell_type": "markdown",
   "metadata": {},
   "source": [
    "## 提取行情数据，整合、处理"
   ]
  },
  {
   "cell_type": "code",
   "execution_count": null,
   "metadata": {},
   "outputs": [],
   "source": [
    "%%time\n",
    "# 提取一个字段大概需要2min 批量提取字段可以减少总时间\n",
    "data = pd.read_sql_query(sql,con = engine)"
   ]
  },
  {
   "cell_type": "code",
   "execution_count": 4,
   "metadata": {},
   "outputs": [
    {
     "ename": "NameError",
     "evalue": "name 'data' is not defined",
     "output_type": "error",
     "traceback": [
      "\u001b[1;31m---------------------------------------------------------------------------\u001b[0m",
      "\u001b[1;31mNameError\u001b[0m                                 Traceback (most recent call last)",
      "\u001b[1;32m<ipython-input-4-3307ccbb7726>\u001b[0m in \u001b[0;36m<module>\u001b[1;34m\u001b[0m\n\u001b[1;32m----> 1\u001b[1;33m \u001b[0mdata\u001b[0m \u001b[1;33m=\u001b[0m \u001b[0mdata\u001b[0m\u001b[1;33m.\u001b[0m\u001b[0msort_values\u001b[0m\u001b[1;33m(\u001b[0m\u001b[0mby\u001b[0m \u001b[1;33m=\u001b[0m \u001b[1;33m[\u001b[0m\u001b[1;34m'date'\u001b[0m\u001b[1;33m,\u001b[0m\u001b[1;34m'symbol'\u001b[0m\u001b[1;33m]\u001b[0m\u001b[1;33m)\u001b[0m\u001b[1;33m\u001b[0m\u001b[1;33m\u001b[0m\u001b[0m\n\u001b[0m\u001b[0;32m      2\u001b[0m \u001b[0mdata\u001b[0m\u001b[1;33m.\u001b[0m\u001b[0mindex\u001b[0m \u001b[1;33m=\u001b[0m \u001b[0mrange\u001b[0m\u001b[1;33m(\u001b[0m\u001b[0mlen\u001b[0m\u001b[1;33m(\u001b[0m\u001b[0mdata\u001b[0m\u001b[1;33m.\u001b[0m\u001b[0mindex\u001b[0m\u001b[1;33m)\u001b[0m\u001b[1;33m)\u001b[0m\u001b[1;33m\u001b[0m\u001b[1;33m\u001b[0m\u001b[0m\n\u001b[0;32m      3\u001b[0m \u001b[0mdata\u001b[0m\u001b[1;33m.\u001b[0m\u001b[0mset_index\u001b[0m\u001b[1;33m(\u001b[0m\u001b[1;33m[\u001b[0m\u001b[1;34m'symbol'\u001b[0m\u001b[1;33m,\u001b[0m\u001b[1;34m'date'\u001b[0m\u001b[1;33m]\u001b[0m\u001b[1;33m,\u001b[0m\u001b[0minplace\u001b[0m\u001b[1;33m=\u001b[0m\u001b[1;32mTrue\u001b[0m\u001b[1;33m)\u001b[0m\u001b[1;33m\u001b[0m\u001b[1;33m\u001b[0m\u001b[0m\n\u001b[0;32m      4\u001b[0m \u001b[1;31m# 所有的日期 作为 index\u001b[0m\u001b[1;33m\u001b[0m\u001b[1;33m\u001b[0m\u001b[1;33m\u001b[0m\u001b[0m\n\u001b[0;32m      5\u001b[0m \u001b[0mtradeday\u001b[0m \u001b[1;33m=\u001b[0m \u001b[0mdata\u001b[0m\u001b[1;33m.\u001b[0m\u001b[0mindex\u001b[0m\u001b[1;33m.\u001b[0m\u001b[0mlevels\u001b[0m\u001b[1;33m[\u001b[0m\u001b[1;36m1\u001b[0m\u001b[1;33m]\u001b[0m\u001b[1;33m\u001b[0m\u001b[1;33m\u001b[0m\u001b[0m\n",
      "\u001b[1;31mNameError\u001b[0m: name 'data' is not defined"
     ]
    }
   ],
   "source": [
    "data = data.sort_values(by = ['date','symbol'])\n",
    "data.index = range(len(data.index))\n",
    "data.set_index(['symbol','date'],inplace=True)\n",
    "# 所有的日期 作为 index\n",
    "tradeday = data.index.levels[1]\n",
    "# 所有的股票 作为 columns\n",
    "tickers = data.index.levels[0]\n",
    "data.reset_index(inplace=True)\n",
    "# 将股票和交易日储存 方便不同的表之间的数据进行 对齐\n",
    "# tickers.to_frame().to_csv(os.path.join(data_path,'tickers.csv'),index= False)\n",
    "# tradeday.to_frame().to_csv(os.path.join(data_path,'tradeday.csv'),index= False)"
   ]
  },
  {
   "cell_type": "code",
   "execution_count": 3,
   "metadata": {},
   "outputs": [],
   "source": [
    "def get_tradedays():\n",
    "    # 返回的为 dataframe 时间为2007/01/01 - 2019/12/01 \n",
    "    tradeday = pd.read_csv(os.path.join(data_path,'tradeday.csv'),parse_dates = ['date'])\n",
    "    \n",
    "    return tradeday\n",
    "\n",
    "def get_tickers():\n",
    "    tickers = pd.read_csv(os.path.join(data_path,'tickers.csv'))\n",
    "    print('there are %s stocks' % len(tickers))\n",
    "    return tickers"
   ]
  },
  {
   "cell_type": "code",
   "execution_count": 6,
   "metadata": {},
   "outputs": [],
   "source": [
    "tradeday = get_tradedays()"
   ]
  },
  {
   "cell_type": "code",
   "execution_count": 10,
   "metadata": {},
   "outputs": [
    {
     "data": {
      "text/plain": [
       "'2007-01-04 00:00:00'"
      ]
     },
     "execution_count": 10,
     "metadata": {},
     "output_type": "execute_result"
    }
   ],
   "source": [
    "str(tradeday.iloc[0].date)"
   ]
  },
  {
   "cell_type": "code",
   "execution_count": null,
   "metadata": {},
   "outputs": [],
   "source": [
    "widedata = data.pivot_table(columns = ['symbol'], index= ['date'],values=['open'],dropna= False)\n",
    "widedata.columns = widedata.columns.droplevel()\n",
    "# set(widedata.columns)- set(data['symbol'])"
   ]
  },
  {
   "cell_type": "code",
   "execution_count": null,
   "metadata": {},
   "outputs": [],
   "source": [
    "def save_data(data_name_list,startdate =  '2007-01-01',enddate = '2019-12-01',engine = engine): \n",
    "    data_str = ','.join(data_name_list)\n",
    "    sql = '''SELECT symbol,date,%s FROM siyecap.stockprice where date between '%s' and '%s';'''%(data_str,startdate,enddate)\n",
    "    time1 = time.time()\n",
    "    data = pd.read_sql_query(sql,con = engine)\n",
    "    data = data.sort_values(by = ['date','symbol'])\n",
    "    data.index = range(len(data.index))\n",
    "    for data_name in data_name_list:\n",
    "        time10 = time.time()\n",
    "        widedata = data[['symbol','date',data_name]].pivot_table(columns = ['symbol'], index= ['date'],values=[data_name],dropna= False)\n",
    "        widedata.columns = widedata.columns.droplevel()\n",
    "        widedata.to_csv(os.path.join(data_path,'%s.csv')%data_name)\n",
    "        time11 = time.time()\n",
    "        print('getting and reshaping %s data cost %.2f s'%(data_name,time11-time10))\n",
    "    time2 = time.time()\n",
    "    print('getting and reshaping all data cost %.2f s'%(time2-time1))"
   ]
  },
  {
   "cell_type": "code",
   "execution_count": null,
   "metadata": {
    "scrolled": true
   },
   "outputs": [],
   "source": [
    "%%time\n",
    "data_name_list = ['tradingstatus','close','open','high','low','avgprice','volume','adjustfactor','volumeyuan','turnoverrate',\n",
    "                  'pe','pe_ttm','ps','ps_ttm','pb','est_eps']\n",
    "save_data(data_name_list)"
   ]
  },
  {
   "cell_type": "code",
   "execution_count": null,
   "metadata": {},
   "outputs": [],
   "source": [
    "test_close =  pd.read_csv(os.path.join(data_path,'close'+'.csv'),index_col= 0)"
   ]
  },
  {
   "cell_type": "code",
   "execution_count": null,
   "metadata": {},
   "outputs": [],
   "source": [
    "test_close"
   ]
  },
  {
   "cell_type": "code",
   "execution_count": null,
   "metadata": {},
   "outputs": [],
   "source": [
    "close = pd.read_csv(os.path.join(data_path,'close.csv'),index_col=0)\n",
    "adjustfactor = pd.read_csv(os.path.join(data_path,'adjustfactor.csv'),index_col=0)\n",
    "close_re = close*adjustfactor"
   ]
  },
  {
   "cell_type": "code",
   "execution_count": null,
   "metadata": {},
   "outputs": [],
   "source": [
    "ret = close_re.diff()/close_re.shift()"
   ]
  },
  {
   "cell_type": "code",
   "execution_count": null,
   "metadata": {},
   "outputs": [],
   "source": []
  },
  {
   "cell_type": "code",
   "execution_count": null,
   "metadata": {},
   "outputs": [],
   "source": [
    "ret.to_csv(os.path.join(data_path,'return.csv'))"
   ]
  },
  {
   "cell_type": "code",
   "execution_count": null,
   "metadata": {},
   "outputs": [],
   "source": []
  }
 ],
 "metadata": {
  "kernelspec": {
   "display_name": "Python 3",
   "language": "python",
   "name": "python3"
  },
  "language_info": {
   "codemirror_mode": {
    "name": "ipython",
    "version": 3
   },
   "file_extension": ".py",
   "mimetype": "text/x-python",
   "name": "python",
   "nbconvert_exporter": "python",
   "pygments_lexer": "ipython3",
   "version": "3.7.4"
  }
 },
 "nbformat": 4,
 "nbformat_minor": 2
}
