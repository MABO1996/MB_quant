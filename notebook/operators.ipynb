{
 "cells": [
  {
   "cell_type": "code",
   "execution_count": 1,
   "metadata": {},
   "outputs": [],
   "source": [
    "import pandas as pd\n",
    "import numpy as np\n",
    "import time\n",
    "import bottleneck as bk\n",
    "import cProfile\n",
    "import pstats"
   ]
  },
  {
   "cell_type": "code",
   "execution_count": 60,
   "metadata": {},
   "outputs": [],
   "source": [
    "def time_analyse(code):\n",
    "    'code 是一段python代码'\n",
    "    cProfile.run(code, 'test.out')\n",
    "    p = pstats.Stats('test.out')\n",
    "    p.sort_stats('tottime').print_stats(10)"
   ]
  },
  {
   "cell_type": "code",
   "execution_count": 3,
   "metadata": {},
   "outputs": [],
   "source": [
    "def insert_nan(data,percent):\n",
    "    a = data.ravel()\n",
    "    nan_numbers = round(len(a)*percent)\n",
    "    index_list = np.random.randint(0,len(a)-1,nan_numbers)\n",
    "    a[index_list] = np.nan\n",
    "    \n",
    "def get_test_data(a,b,per = 0.2):\n",
    "    test_data = np.random.random((a,b))\n",
    "    insert_nan(test_data,per)\n",
    "    return test_data"
   ]
  },
  {
   "cell_type": "code",
   "execution_count": 5,
   "metadata": {},
   "outputs": [],
   "source": [
    "test_data = get_test_data(3141,3824)\n",
    "test_data2 = get_test_data(3141,3824)\n",
    "test_data3 = get_test_data(3141,3824)"
   ]
  },
  {
   "cell_type": "markdown",
   "metadata": {},
   "source": [
    "时间序列上的操作"
   ]
  },
  {
   "cell_type": "code",
   "execution_count": null,
   "metadata": {},
   "outputs": [],
   "source": [
    "def ts_delay(data,period):\n",
    "    data_cols = data.shape[1]\n",
    "    pre_data = np.zeros((period,data_cols))\n",
    "    pre_data[:] = np.nan\n",
    "    result = np.vstack([pre_data,data[:-period] ])\n",
    "    return result\n",
    "\n",
    "def ts_rank(data,period):\n",
    "    result = bk.move_rank(data,window=period,axis = 0,min_count=3)\n",
    "    return (result+1)/2"
   ]
  },
  {
   "cell_type": "code",
   "execution_count": null,
   "metadata": {
    "scrolled": true
   },
   "outputs": [],
   "source": [
    "tsrank_res= ts_rank(test_data,4)"
   ]
  },
  {
   "cell_type": "markdown",
   "metadata": {},
   "source": [
    "### 线性回归的解决方案"
   ]
  },
  {
   "cell_type": "code",
   "execution_count": 20,
   "metadata": {},
   "outputs": [],
   "source": [
    "from scipy import stats\n",
    "import statsmodels.api as sm\n",
    "from statsmodels.stats.outliers_influence import summary_table"
   ]
  },
  {
   "cell_type": "markdown",
   "metadata": {},
   "source": [
    " 单期简单回归"
   ]
  },
  {
   "cell_type": "code",
   "execution_count": null,
   "metadata": {},
   "outputs": [],
   "source": [
    "def cross_simple_regression(y,x):\n",
    "    slope, intercept, r_value, p_value, std_err = stats.linregress(x,y)\n",
    "    return slope,intercept\n",
    "cross_simple_regression(test_data[0],test_data2[0]) # 使用stats.linregress 只能进行两个变量的回归，切无法处理缺失值"
   ]
  },
  {
   "cell_type": "code",
   "execution_count": 53,
   "metadata": {},
   "outputs": [],
   "source": [
    "def simple_regression(datay,datax):\n",
    "    # 进行单元回归 一期 获取系数\n",
    "    x = datax.T\n",
    "    X = sm.add_constant(x)\n",
    "    y = datay\n",
    "    model = sm.OLS(y, X, missing='drop')\n",
    "    results = model.fit()\n",
    "#     return results.summary()\n",
    "    return results.params"
   ]
  },
  {
   "cell_type": "code",
   "execution_count": 55,
   "metadata": {},
   "outputs": [
    {
     "name": "stdout",
     "output_type": "stream",
     "text": [
      "1.78 ms ± 126 µs per loop (mean ± std. dev. of 7 runs, 100 loops each)\n"
     ]
    }
   ],
   "source": [
    "%%timeit\n",
    "simple_regression(test_data[0],test_data2[0:2,:])"
   ]
  },
  {
   "cell_type": "markdown",
   "metadata": {},
   "source": [
    "单期多元回归"
   ]
  },
  {
   "cell_type": "code",
   "execution_count": 58,
   "metadata": {},
   "outputs": [],
   "source": [
    "def multi_regression(datay,*args):\n",
    "    # 进行多元回归 一期\n",
    "    x = []\n",
    "    for datax in args:\n",
    "        x.append(datax)\n",
    "    x = np.vstack(x)\n",
    "    y = datay\n",
    "    params = simple_regression(y,x) \n",
    "    return params # 参数为常数开始 其余的对应datax的顺序"
   ]
  },
  {
   "cell_type": "code",
   "execution_count": 65,
   "metadata": {},
   "outputs": [
    {
     "name": "stdout",
     "output_type": "stream",
     "text": [
      "1.87 ms ± 111 µs per loop (mean ± std. dev. of 7 runs, 100 loops each)\n"
     ]
    }
   ],
   "source": [
    "%%timeit\n",
    "multi_regression(test_data[0],test_data2[0],test_data2[1],test_data2[2],test_data2[3])"
   ]
  },
  {
   "cell_type": "markdown",
   "metadata": {},
   "source": [
    "多期简单回归"
   ]
  },
  {
   "cell_type": "code",
   "execution_count": null,
   "metadata": {},
   "outputs": [],
   "source": [
    "def all_period_cross_simple_regression(datay,datax):\n",
    "    # 进行单元回归 每一期进行回归\n",
    "    paramList = []\n",
    "    for i in range(datax.shape[0]):\n",
    "        x = datax[i]\n",
    "        y = datay[i]\n",
    "        params = simple_regression(y,x)\n",
    "        paramList.append(params)\n",
    "    paramList = np.array(paramList)\n",
    "    return paramList"
   ]
  },
  {
   "cell_type": "code",
   "execution_count": null,
   "metadata": {},
   "outputs": [],
   "source": [
    "all_period_cross_simple_regression(test_data,test_data2)"
   ]
  },
  {
   "cell_type": "markdown",
   "metadata": {},
   "source": [
    "多期多元回归"
   ]
  },
  {
   "cell_type": "code",
   "execution_count": null,
   "metadata": {},
   "outputs": [],
   "source": [
    "def all_period_cross_multi_regression(datay,*args):\n",
    "    paramList = []\n",
    "    x_num = len(args)\n",
    "    for i in range(datay.shape[0]):\n",
    "        x = []\n",
    "        for datax in args:\n",
    "            x.append(datax[i])\n",
    "        x = np.vstack(x)    \n",
    "        y = datay[i]\n",
    "        params = simple_regression(y,x)\n",
    "        paramList.append(params)\n",
    "    paramList = np.array(paramList)\n",
    "    return paramList"
   ]
  },
  {
   "cell_type": "code",
   "execution_count": null,
   "metadata": {},
   "outputs": [],
   "source": [
    "%%timeit\n",
    "all_period_cross_multi_regression(test_data,test_data2,test_data3)"
   ]
  },
  {
   "cell_type": "code",
   "execution_count": null,
   "metadata": {},
   "outputs": [],
   "source": [
    "time_analyse('all_period_cross_multi_regression(test_data,test_data2,test_data3)')"
   ]
  },
  {
   "cell_type": "markdown",
   "metadata": {},
   "source": [
    "回归需要得到哪些数据 \n",
    "- 每个截面回归的系数\n",
    "- 系数的T值和P值\n",
    "- 回归的T值\n",
    "- 每个股票的残差\n",
    "- 残差平方和\n",
    "- 残差波动率-残差在时间序列上的操作"
   ]
  },
  {
   "cell_type": "markdown",
   "metadata": {},
   "source": [
    "残差数据获取：要求一一对应 如果调用ols包的话会失去nan "
   ]
  },
  {
   "cell_type": "code",
   "execution_count": 92,
   "metadata": {},
   "outputs": [],
   "source": [
    "def simple_regression_resid(datay,datax):\n",
    "    # 单元回归 一期\n",
    "    x = datax\n",
    "    y = datay\n",
    "    \n",
    "    not_nan_flag = ~(np.isnan(x*y))\n",
    "    not_nan_index = np.arange(len(not_nan_flag))[not_nan_flag]\n",
    "    \n",
    "    new_x = x[not_nan_flag]\n",
    "    new_y = y[not_nan_flag] \n",
    "    X = sm.add_constant(new_x.T)\n",
    "    model = sm.OLS(new_y, X)\n",
    "    results = model.fit()\n",
    "\n",
    "    resid_result = np.zeros_like(y)\n",
    "    resid_result[:] = np.nan\n",
    "    resid_result[not_nan_index] = results.resid\n",
    "    \n",
    "    return resid_result"
   ]
  },
  {
   "cell_type": "code",
   "execution_count": 29,
   "metadata": {
    "scrolled": true
   },
   "outputs": [
    {
     "name": "stdout",
     "output_type": "stream",
     "text": [
      "1.02 ms ± 14.3 µs per loop (mean ± std. dev. of 7 runs, 1000 loops each)\n"
     ]
    }
   ],
   "source": [
    "%%timeit\n",
    "get_simple_regression_resid(y,x)"
   ]
  },
  {
   "cell_type": "code",
   "execution_count": 95,
   "metadata": {},
   "outputs": [],
   "source": [
    "def multi_regression_resid(datay,*args):\n",
    "    # 进行多元回归 一期\n",
    "    x = []\n",
    "    for datax in args:\n",
    "        x.append(datax)\n",
    "    x = np.vstack(x)\n",
    "    y = datay\n",
    "    not_nan_flag = ~np.any(np.isnan(x*y),axis=0) \n",
    "    not_nan_index = np.arange(len(not_nan_flag))[not_nan_flag]\n",
    "    \n",
    "    x = x.T\n",
    "    new_x = x[not_nan_flag]\n",
    "    new_y = y[not_nan_flag] \n",
    "    X = sm.add_constant(new_x)\n",
    "    model = sm.OLS(new_y, X)\n",
    "    results = model.fit()\n",
    "\n",
    "    resid_result = np.zeros_like(y)\n",
    "    resid_result[:] = np.nan\n",
    "    resid_result[not_nan_index] = results.resid\n",
    "    return resid_result # 参数为常数开始 其余的对应datax的顺序"
   ]
  },
  {
   "cell_type": "code",
   "execution_count": 96,
   "metadata": {},
   "outputs": [
    {
     "name": "stdout",
     "output_type": "stream",
     "text": [
      "1.11 ms ± 18.1 µs per loop (mean ± std. dev. of 7 runs, 1000 loops each)\n"
     ]
    }
   ],
   "source": [
    "%%timeit\n",
    "multi_regression_resid(test_data[0],test_data2[0],test_data2[1],test_data2[2],test_data2[3])"
   ]
  },
  {
   "cell_type": "markdown",
   "metadata": {},
   "source": [
    "## 相关系数的解决方案\n",
    "\n",
    "- 多期的相关系数\n",
    "- 单期的相关系数"
   ]
  },
  {
   "cell_type": "markdown",
   "metadata": {},
   "source": [
    "单期相关系数"
   ]
  },
  {
   "cell_type": "code",
   "execution_count": null,
   "metadata": {},
   "outputs": [],
   "source": [
    "def corr_vet_1(vet1,vet2):\n",
    "    # 计算两个向量的相关性 如果存在nan值怎么处理 两个向量的nan值所在的位置不同\n",
    "    # 取两个vect都不为nan的值\n",
    "    notNullIndex = ~(np.isnan(vet1*vet2))\n",
    "    new_vet1 = vet1[notNullIndex]\n",
    "    new_vet2 = vet2[notNullIndex]\n",
    "    corr = np.corrcoef(new_vet1,new_vet2)[0,1]\n",
    "    return corr\n",
    "\n",
    "def corr_vet_2(vet1,vet2):\n",
    "    # 计算两个向量的相关性 如果存在nan值怎么处理 两个向量的nan值所在的位置不同\n",
    "    # 取两个vect都不为nan的值\n",
    "    corr = pd.Series(vet1).corr(pd.Series(vet2))\n",
    "    return corr"
   ]
  },
  {
   "cell_type": "code",
   "execution_count": null,
   "metadata": {},
   "outputs": [],
   "source": [
    "%%timeit\n",
    "corr_vet_2(test_data[0],test_data2[0])"
   ]
  },
  {
   "cell_type": "code",
   "execution_count": null,
   "metadata": {},
   "outputs": [],
   "source": [
    "%%timeit\n",
    "corr_vet_1(test_data[0],test_data2[0])"
   ]
  },
  {
   "cell_type": "markdown",
   "metadata": {},
   "source": [
    "多期相关系数"
   ]
  },
  {
   "cell_type": "code",
   "execution_count": null,
   "metadata": {},
   "outputs": [],
   "source": [
    "\n",
    "def corr_mat_1(mat1,mat2):\n",
    "    # 计算两个矩阵 对应的截面的相关性\n",
    "    corrs = []\n",
    "    for i in range(len(mat1)):\n",
    "        corrs.append(corr_vet_1(mat1[i],mat2[i]))\n",
    "    corrs = np.array(corrs)\n",
    "    return corrs\n",
    "\n",
    "def corr_mat_2(mat1,mat2):\n",
    "    # 计算两个矩阵 对应的截面的相关性\n",
    "    new_mat1 = np.copy(mat1)\n",
    "    new_mat2 = np.copy(mat2)\n",
    "    nan_flag = np.isnan(mat1*mat2)\n",
    "    new_mat1[nan_flag] = np.nan\n",
    "    new_mat2[nan_flag] = np.nan\n",
    "    \n",
    "    prod_mean = bk.nanmean(new_mat1*new_mat2,axis=1) - bk.nanmean(new_mat1,axis=1)*np.nanmean(new_mat2,axis=1)\n",
    "    prod_std = bk.nanstd(new_mat1,axis=1)* bk.nanstd(new_mat2,axis=1)\n",
    "    \n",
    "    corrs = prod_mean/prod_std\n",
    "    return corrs\n",
    "\n",
    "def corr_mat_3(mat1,mat2):\n",
    "    # 计算两个矩阵 对应的截面的相关性\n",
    "    new_mat1 = np.copy(mat1)\n",
    "    new_mat2 = np.copy(mat2)\n",
    "    nan_flag = np.isnan(mat1*mat2)\n",
    "    new_mat1[nan_flag] = np.nan\n",
    "    new_mat2[nan_flag] = np.nan\n",
    "    \n",
    "    prod_mean = np.nanmean(new_mat1*new_mat2,axis=1) - np.nanmean(new_mat1,axis=1)*np.nanmean(new_mat2,axis=1)\n",
    "    prod_std = np.nanstd(new_mat1,axis=1)* np.nanstd(new_mat2,axis=1)\n",
    "    \n",
    "    corrs = prod_mean/prod_std\n",
    "    return corrs\n",
    "\n",
    "# 最终竟然是使用循环的速度最快\n",
    "# bk 确实比 np 要快一点\n",
    "# 考虑使用其他的加速包进行加速"
   ]
  },
  {
   "cell_type": "code",
   "execution_count": null,
   "metadata": {},
   "outputs": [],
   "source": [
    "res2 = corr_mat_2(test_data2,test_data)\n",
    "res1 = corr_mat_1(test_data2,test_data)"
   ]
  },
  {
   "cell_type": "code",
   "execution_count": null,
   "metadata": {},
   "outputs": [],
   "source": [
    "cProfile.run('res2 = corr_mat_3(test_data2,test_data)', 'test.out')\n",
    "p = pstats.Stats('test.out')\n",
    "p.sort_stats('tottime').print_stats(10)"
   ]
  },
  {
   "cell_type": "code",
   "execution_count": null,
   "metadata": {},
   "outputs": [],
   "source": [
    "cProfile.run('res = corr_mat_2(test_data2,test_data)', 'test2.out')\n",
    "p = pstats.Stats('test2.out')\n",
    "p.sort_stats('tottime').print_stats(10)"
   ]
  },
  {
   "cell_type": "code",
   "execution_count": null,
   "metadata": {},
   "outputs": [],
   "source": []
  }
 ],
 "metadata": {
  "kernelspec": {
   "display_name": "Python 3",
   "language": "python",
   "name": "python3"
  },
  "language_info": {
   "codemirror_mode": {
    "name": "ipython",
    "version": 3
   },
   "file_extension": ".py",
   "mimetype": "text/x-python",
   "name": "python",
   "nbconvert_exporter": "python",
   "pygments_lexer": "ipython3",
   "version": "3.7.1"
  },
  "toc": {
   "base_numbering": 1,
   "nav_menu": {},
   "number_sections": true,
   "sideBar": true,
   "skip_h1_title": false,
   "title_cell": "Table of Contents",
   "title_sidebar": "Contents",
   "toc_cell": false,
   "toc_position": {},
   "toc_section_display": true,
   "toc_window_display": false
  }
 },
 "nbformat": 4,
 "nbformat_minor": 2
}
