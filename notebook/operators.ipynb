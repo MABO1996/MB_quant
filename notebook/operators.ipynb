{
 "cells": [
  {
   "cell_type": "code",
   "execution_count": 1,
   "metadata": {
    "pycharm": {
     "is_executing": false
    }
   },
   "outputs": [],
   "source": [
    "import pandas as pd\n",
    "import numpy as np\n",
    "import time\n",
    "import bottleneck as bk\n",
    "import cProfile\n",
    "import pstats\n",
    "from scipy import stats\n",
    "import statsmodels.api as sm\n",
    "from statsmodels.stats.outliers_influence import summary_table"
   ]
  },
  {
   "cell_type": "code",
   "execution_count": 25,
   "metadata": {
    "pycharm": {
     "is_executing": false
    }
   },
   "outputs": [],
   "source": [
    "def time_analyse(code):\n",
    "    'code 是一段python代码'\n",
    "    cProfile.run(code, 'test.out')\n",
    "    p = pstats.Stats('test.out')\n",
    "    p.sort_stats('tottime').print_stats(10)"
   ]
  },
  {
   "cell_type": "code",
   "execution_count": 2,
   "metadata": {
    "pycharm": {
     "is_executing": false
    }
   },
   "outputs": [],
   "source": [
    "def insert_nan(data,percent):\n",
    "    a = data.ravel()\n",
    "    nan_numbers = round(len(a)*percent)\n",
    "    index_list = np.random.randint(0,len(a)-1,nan_numbers)\n",
    "    a[index_list] = np.nan\n",
    "    \n",
    "def get_test_data(a,b,per = 0.2):\n",
    "    test_data = np.random.random((a,b))\n",
    "    insert_nan(test_data,per)\n",
    "    return test_data"
   ]
  },
  {
   "cell_type": "code",
   "execution_count": 24,
   "metadata": {
    "pycharm": {
     "is_executing": false
    }
   },
   "outputs": [],
   "source": [
    "test_data = get_test_data(3141,3824)\n",
    "test_data2 = get_test_data(3141,3824)\n",
    "test_data3 = get_test_data(3141,3824)"
   ]
  },
  {
   "cell_type": "markdown",
   "metadata": {},
   "source": [
    "时间序列上的操作"
   ]
  },
  {
   "cell_type": "code",
   "execution_count": null,
   "metadata": {},
   "outputs": [],
   "source": [
    "def ts_delay(data,period):\n",
    "    data_cols = data.shape[1]\n",
    "    pre_data = np.zeros((period,data_cols))\n",
    "    pre_data[:] = np.nan\n",
    "    result = np.vstack([pre_data,data[:-period] ])\n",
    "    return result\n",
    "\n",
    "def ts_rank(data,period):\n",
    "    result = bk.move_rank(data,window=period,axis = 0,min_count=3)\n",
    "    return (result+1)/2"
   ]
  },
  {
   "cell_type": "code",
   "execution_count": null,
   "metadata": {
    "scrolled": true
   },
   "outputs": [],
   "source": [
    "tsrank_res= ts_rank(test_data,4)"
   ]
  },
  {
   "cell_type": "markdown",
   "metadata": {},
   "source": [
    "### 线性回归的解决方案"
   ]
  },
  {
   "cell_type": "markdown",
   "metadata": {},
   "source": [
    " 单期简单回归"
   ]
  },
  {
   "cell_type": "code",
   "execution_count": null,
   "metadata": {},
   "outputs": [],
   "source": [
    "def cross_simple_regression(y,x):\n",
    "    slope, intercept, r_value, p_value, std_err = stats.linregress(x,y)\n",
    "    return slope,intercept\n",
    "cross_simple_regression(test_data[0],test_data2[0]) # 使用stats.linregress 只能进行两个变量的回归，切无法处理缺失值"
   ]
  },
  {
   "cell_type": "code",
   "execution_count": null,
   "metadata": {},
   "outputs": [],
   "source": [
    "def simple_regression(datay,datax):\n",
    "    # 进行单元回归 一期 获取系数\n",
    "    x = datax.T\n",
    "    X = sm.add_constant(x)\n",
    "    y = datay\n",
    "    model = sm.OLS(y, X, missing='drop')\n",
    "    results = model.fit()\n",
    "#     return results.summary()\n",
    "    return results.params"
   ]
  },
  {
   "cell_type": "code",
   "execution_count": null,
   "metadata": {},
   "outputs": [],
   "source": [
    "%%timeit\n",
    "simple_regression(test_data[0],test_data2[0:2,:])"
   ]
  },
  {
   "cell_type": "markdown",
   "metadata": {},
   "source": [
    "单期多元回归"
   ]
  },
  {
   "cell_type": "code",
   "execution_count": null,
   "metadata": {},
   "outputs": [],
   "source": [
    "def multi_regression(datay,*args):\n",
    "    # 进行多元回归 一期\n",
    "    x = []\n",
    "    for datax in args:\n",
    "        x.append(datax)\n",
    "    x = np.vstack(x)\n",
    "    y = datay\n",
    "    params = simple_regression(y,x) \n",
    "    return params # 参数为常数开始 其余的对应datax的顺序"
   ]
  },
  {
   "cell_type": "code",
   "execution_count": null,
   "metadata": {},
   "outputs": [],
   "source": [
    "%%timeit\n",
    "multi_regression(test_data[0],test_data2[0],test_data2[1],test_data2[2],test_data2[3])"
   ]
  },
  {
   "cell_type": "markdown",
   "metadata": {},
   "source": [
    "多期简单回归"
   ]
  },
  {
   "cell_type": "code",
   "execution_count": null,
   "metadata": {},
   "outputs": [],
   "source": [
    "def all_period_cross_simple_regression(datay,datax):\n",
    "    # 进行单元回归 每一期进行回归\n",
    "    paramList = []\n",
    "    for i in range(datax.shape[0]):\n",
    "        x = datax[i]\n",
    "        y = datay[i]\n",
    "        params = simple_regression(y,x)\n",
    "        paramList.append(params)\n",
    "    paramList = np.array(paramList)\n",
    "    return paramList"
   ]
  },
  {
   "cell_type": "code",
   "execution_count": null,
   "metadata": {},
   "outputs": [],
   "source": [
    "all_period_cross_simple_regression(test_data,test_data2)"
   ]
  },
  {
   "cell_type": "markdown",
   "metadata": {},
   "source": [
    "多期多元回归"
   ]
  },
  {
   "cell_type": "code",
   "execution_count": null,
   "metadata": {},
   "outputs": [],
   "source": [
    "def all_period_cross_multi_regression(datay,*args):\n",
    "    paramList = []\n",
    "    x_num = len(args)\n",
    "    for i in range(datay.shape[0]):\n",
    "        x = []\n",
    "        for datax in args:\n",
    "            x.append(datax[i])\n",
    "        x = np.vstack(x)    \n",
    "        y = datay[i]\n",
    "        params = simple_regression(y,x)\n",
    "        paramList.append(params)\n",
    "    paramList = np.array(paramList)\n",
    "    return paramList"
   ]
  },
  {
   "cell_type": "code",
   "execution_count": null,
   "metadata": {},
   "outputs": [],
   "source": [
    "%%timeit\n",
    "all_period_cross_multi_regression(test_data,test_data2,test_data3)"
   ]
  },
  {
   "cell_type": "code",
   "execution_count": null,
   "metadata": {},
   "outputs": [],
   "source": [
    "time_analyse('all_period_cross_multi_regression(test_data,test_data2,test_data3)')"
   ]
  },
  {
   "cell_type": "markdown",
   "metadata": {},
   "source": [
    "回归需要得到哪些数据 \n",
    "- 每个截面回归的系数\n",
    "- 系数的T值和P值\n",
    "- 回归的T值\n",
    "- 每个股票的残差\n",
    "- 残差平方和\n",
    "- 残差波动率-残差在时间序列上的操作"
   ]
  },
  {
   "cell_type": "markdown",
   "metadata": {},
   "source": [
    "残差数据获取：要求一一对应 如果调用ols包的话会失去nan "
   ]
  },
  {
   "cell_type": "code",
   "execution_count": null,
   "metadata": {},
   "outputs": [],
   "source": [
    "def simple_regression_resid(datay,datax):\n",
    "    # 单元回归 一期\n",
    "    x = datax\n",
    "    y = datay\n",
    "    \n",
    "    not_nan_flag = ~(np.isnan(x*y))\n",
    "    not_nan_index = np.arange(len(not_nan_flag))[not_nan_flag]\n",
    "    \n",
    "    new_x = x[not_nan_flag]\n",
    "    new_y = y[not_nan_flag] \n",
    "    X = sm.add_constant(new_x.T)\n",
    "    model = sm.OLS(new_y, X)\n",
    "    results = model.fit()\n",
    "\n",
    "    resid_result = np.zeros_like(y)\n",
    "    resid_result[:] = np.nan\n",
    "    resid_result[not_nan_index] = results.resid\n",
    "    \n",
    "    return resid_result"
   ]
  },
  {
   "cell_type": "code",
   "execution_count": null,
   "metadata": {
    "scrolled": true
   },
   "outputs": [],
   "source": [
    "%%timeit\n",
    "simple_regression_resid(test_data[0],test_data2[0])"
   ]
  },
  {
   "cell_type": "code",
   "execution_count": null,
   "metadata": {},
   "outputs": [],
   "source": [
    "def multi_regression_resid(datay,*args):\n",
    "    # 进行多元回归 一期\n",
    "    x = []\n",
    "    for datax in args:\n",
    "        x.append(datax)\n",
    "    x = np.vstack(x)\n",
    "    y = datay\n",
    "    not_nan_flag = ~np.any(np.isnan(x*y),axis=0) \n",
    "    not_nan_index = np.arange(len(not_nan_flag))[not_nan_flag]\n",
    "    \n",
    "    x = x.T\n",
    "    new_x = x[not_nan_flag]\n",
    "    new_y = y[not_nan_flag] \n",
    "    X = sm.add_constant(new_x)\n",
    "    model = sm.OLS(new_y, X)\n",
    "    results = model.fit()\n",
    "\n",
    "    resid_result = np.zeros_like(y)\n",
    "    resid_result[:] = np.nan\n",
    "    resid_result[not_nan_index] = results.resid\n",
    "    return resid_result # 参数为常数开始 其余的对应datax的顺序"
   ]
  },
  {
   "cell_type": "code",
   "execution_count": null,
   "metadata": {},
   "outputs": [],
   "source": [
    "%%timeit\n",
    "multi_regression_resid(test_data[0],test_data2[0],test_data2[1],test_data2[2],test_data2[3])\n"
   ]
  },
  {
   "cell_type": "markdown",
   "metadata": {
    "pycharm": {
     "name": "#%% md\n"
    }
   },
   "source": [
    "进行多期的残差获取"
   ]
  },
  {
   "cell_type": "code",
   "execution_count": null,
   "metadata": {
    "pycharm": {
     "is_executing": false,
     "name": "#%%\n"
    }
   },
   "outputs": [],
   "source": [
    "def all_period_simple_regression_resid(datay,datax):\n",
    "    # 单元多期的残差获取\n",
    "    resid_mat = np.zeros_like(datay)\n",
    "    resid_mat[:] = np.nan\n",
    "    \n",
    "    for i in range(datay.shape[0]):\n",
    "        x = datax[i]\n",
    "        y = datay[i]\n",
    "        \n",
    "        not_nan_flag = ~(np.isnan(x*y))\n",
    "        not_nan_index = np.arange(len(not_nan_flag))[not_nan_flag]\n",
    "        \n",
    "        new_x = x[not_nan_flag]\n",
    "        new_y = y[not_nan_flag] \n",
    "        X = sm.add_constant(new_x.T)\n",
    "        model = sm.OLS(new_y, X)\n",
    "        results = model.fit()\n",
    "\n",
    "        resid_result = np.zeros_like(y)\n",
    "        resid_result[:] = np.nan\n",
    "        resid_result[not_nan_index] = results.resid\n",
    "        resid_mat[i] = resid_result\n",
    "    return resid_mat"
   ]
  },
  {
   "cell_type": "code",
   "execution_count": null,
   "metadata": {
    "pycharm": {
     "is_executing": false,
     "name": "#%%\n"
    }
   },
   "outputs": [],
   "source": [
    "%%time \n",
    "resid_mat = all_period_simple_regression_resid(test_data,test_data2)"
   ]
  },
  {
   "cell_type": "code",
   "execution_count": 36,
   "metadata": {},
   "outputs": [],
   "source": [
    "def all_period_multi_regression_resid(datay,*args):\n",
    "    # 单元多期的残差获取\n",
    "    resid_mat = np.zeros_like(datay)\n",
    "    resid_mat[:] = np.nan\n",
    "    \n",
    "    for i in range(datay.shape[0]):        \n",
    "        x = []\n",
    "        for datax in args:\n",
    "            x.append(datax[i])\n",
    "        x = np.vstack(x)\n",
    "        y = datay[i]\n",
    "        not_nan_flag = ~np.any(np.isnan(x*y),axis=0) \n",
    "        not_nan_index = np.arange(len(not_nan_flag))[not_nan_flag]\n",
    "\n",
    "        x = x.T\n",
    "        new_x = x[not_nan_flag]\n",
    "        new_y = y[not_nan_flag] \n",
    "        X = sm.add_constant(new_x)\n",
    "        model = sm.OLS(new_y, X)\n",
    "        results = model.fit()\n",
    "\n",
    "        resid_result = np.zeros_like(y)\n",
    "        resid_result[:] = np.nan\n",
    "        resid_result[not_nan_index] = results.resid\n",
    "        resid_mat[i] = resid_result\n",
    "    return resid_mat"
   ]
  },
  {
   "cell_type": "code",
   "execution_count": 37,
   "metadata": {},
   "outputs": [
    {
     "name": "stdout",
     "output_type": "stream",
     "text": [
      "Wall time: 2.57 s\n"
     ]
    },
    {
     "data": {
      "text/plain": [
       "array([[        nan,         nan,         nan, ...,         nan,\n",
       "        -0.42975754,  0.46613935],\n",
       "       [        nan, -0.39590223,         nan, ..., -0.10480716,\n",
       "         0.21333906,         nan],\n",
       "       [-0.08225961,         nan, -0.42827803, ...,         nan,\n",
       "        -0.30668546,         nan],\n",
       "       ...,\n",
       "       [        nan,  0.13247994,  0.13663867, ...,         nan,\n",
       "         0.37424602,  0.44331813],\n",
       "       [        nan,         nan,         nan, ...,         nan,\n",
       "        -0.30719103,  0.20043683],\n",
       "       [        nan,         nan,         nan, ...,  0.1511441 ,\n",
       "        -0.05252606,  0.40100684]])"
      ]
     },
     "execution_count": 37,
     "metadata": {},
     "output_type": "execute_result"
    }
   ],
   "source": [
    "%%time\n",
    "all_period_multi_regression_resid(test_data,test_data3,test_data2)"
   ]
  },
  {
   "cell_type": "markdown",
   "metadata": {},
   "source": [
    "## 相关系数的解决方案\n",
    "\n",
    "- 多期的相关系数\n",
    "- 单期的相关系数"
   ]
  },
  {
   "cell_type": "markdown",
   "metadata": {},
   "source": [
    "单期相关系数"
   ]
  },
  {
   "cell_type": "code",
   "execution_count": null,
   "metadata": {},
   "outputs": [],
   "source": [
    "def corr_vet_1(vet1,vet2):\n",
    "    # 计算两个向量的相关性 如果存在nan值怎么处理 两个向量的nan值所在的位置不同\n",
    "    # 取两个vect都不为nan的值\n",
    "    notNullIndex = ~(np.isnan(vet1*vet2))\n",
    "    new_vet1 = vet1[notNullIndex]\n",
    "    new_vet2 = vet2[notNullIndex]\n",
    "    corr = np.corrcoef(new_vet1,new_vet2)[0,1]\n",
    "    return corr\n",
    "\n",
    "def corr_vet_2(vet1,vet2):\n",
    "    # 计算两个向量的相关性 如果存在nan值怎么处理 两个向量的nan值所在的位置不同\n",
    "    # 取两个vect都不为nan的值\n",
    "    corr = pd.Series(vet1).corr(pd.Series(vet2))\n",
    "    return corr"
   ]
  },
  {
   "cell_type": "code",
   "execution_count": null,
   "metadata": {},
   "outputs": [],
   "source": [
    "%%timeit\n",
    "corr_vet_2(test_data[0],test_data2[0])"
   ]
  },
  {
   "cell_type": "code",
   "execution_count": null,
   "metadata": {},
   "outputs": [],
   "source": [
    "%%timeit\n",
    "corr_vet_1(test_data[0],test_data2[0])"
   ]
  },
  {
   "cell_type": "markdown",
   "metadata": {},
   "source": [
    "多期相关系数"
   ]
  },
  {
   "cell_type": "code",
   "execution_count": null,
   "metadata": {},
   "outputs": [],
   "source": [
    "def corr_mat_1(mat1,mat2):\n",
    "    # 计算两个矩阵 对应的截面的相关性\n",
    "    corrs = []\n",
    "    for i in range(len(mat1)):\n",
    "        corrs.append(corr_vet_1(mat1[i],mat2[i]))\n",
    "    corrs = np.array(corrs)\n",
    "    return corrs\n",
    "\n",
    "def corr_mat_2(mat1,mat2):\n",
    "    # 计算两个矩阵 对应的截面的相关性\n",
    "    new_mat1 = np.copy(mat1)\n",
    "    new_mat2 = np.copy(mat2)\n",
    "    nan_flag = np.isnan(mat1*mat2)\n",
    "    new_mat1[nan_flag] = np.nan\n",
    "    new_mat2[nan_flag] = np.nan\n",
    "    \n",
    "    prod_mean = bk.nanmean(new_mat1*new_mat2,axis=1) - bk.nanmean(new_mat1,axis=1)*np.nanmean(new_mat2,axis=1)\n",
    "    prod_std = bk.nanstd(new_mat1,axis=1)* bk.nanstd(new_mat2,axis=1)\n",
    "    \n",
    "    corrs = prod_mean/prod_std\n",
    "    return corrs\n",
    "\n",
    "def corr_mat_3(mat1,mat2):\n",
    "    # 计算两个矩阵 对应的截面的相关性\n",
    "    new_mat1 = np.copy(mat1)\n",
    "    new_mat2 = np.copy(mat2)\n",
    "    nan_flag = np.isnan(mat1*mat2)\n",
    "    new_mat1[nan_flag] = np.nan\n",
    "    new_mat2[nan_flag] = np.nan\n",
    "    \n",
    "    prod_mean = np.nanmean(new_mat1*new_mat2,axis=1) - np.nanmean(new_mat1,axis=1)*np.nanmean(new_mat2,axis=1)\n",
    "    prod_std = np.nanstd(new_mat1,axis=1)* np.nanstd(new_mat2,axis=1)\n",
    "    \n",
    "    corrs = prod_mean/prod_std\n",
    "    return corrs\n",
    "\n",
    "# 最终竟然是使用循环的速度最快\n",
    "# bk 确实比 np 要快一点\n",
    "# 考虑使用其他的加速包进行加速"
   ]
  },
  {
   "cell_type": "code",
   "execution_count": null,
   "metadata": {},
   "outputs": [],
   "source": [
    "res2 = corr_mat_2(test_data2,test_data)\n",
    "res1 = corr_mat_1(test_data2,test_data)"
   ]
  },
  {
   "cell_type": "code",
   "execution_count": null,
   "metadata": {},
   "outputs": [],
   "source": [
    "cProfile.run('res2 = corr_mat_3(test_data2,test_data)', 'test.out')\n",
    "p = pstats.Stats('test.out')\n",
    "p.sort_stats('tottime').print_stats(10)"
   ]
  },
  {
   "cell_type": "code",
   "execution_count": null,
   "metadata": {},
   "outputs": [],
   "source": [
    "cProfile.run('res = corr_mat_2(test_data2,test_data)', 'test2.out')\n",
    "p = pstats.Stats('test2.out')\n",
    "p.sort_stats('tottime').print_stats(10)"
   ]
  },
  {
   "cell_type": "code",
   "execution_count": null,
   "metadata": {},
   "outputs": [],
   "source": [
    "test_data"
   ]
  },
  {
   "cell_type": "code",
   "execution_count": null,
   "metadata": {},
   "outputs": [],
   "source": [
    "low = 0\n",
    "high = 0.1\n",
    "rankAlpha = test_data\n",
    "flag = (rankAlpha > low) & (rankAlpha < high)\n",
    "flag_copy = flag*1.0\n",
    "flag_copy[~flag]=np.nan\n",
    "position = flag_copy\n",
    "position = (position.T/np.nansum(position,axis=1)).T"
   ]
  },
  {
   "cell_type": "markdown",
   "metadata": {},
   "source": [
    "### 进行去极值和归一化的操作"
   ]
  },
  {
   "cell_type": "code",
   "execution_count": 31,
   "metadata": {},
   "outputs": [],
   "source": [
    "def filter_extreme_MAD(data,n): #MAD: 中位数去极值 \n",
    "    median = bk.nanmedian(data,axis = 1)\n",
    "    new_median = bk.nanmedian((np.abs(data.T - median).T),axis = 1)\n",
    "    max_range = median + n*new_median\n",
    "    min_range = median - n*new_median\n",
    "    return np.clip(data.T,min_range,max_range).T"
   ]
  },
  {
   "cell_type": "code",
   "execution_count": 32,
   "metadata": {},
   "outputs": [
    {
     "name": "stdout",
     "output_type": "stream",
     "text": [
      "Wed Dec 25 15:33:53 2019    test.out\n",
      "\n",
      "         10 function calls in 0.434 seconds\n",
      "\n",
      "   Ordered by: internal time\n",
      "\n",
      "   ncalls  tottime  percall  cumtime  percall filename:lineno(function)\n",
      "        2    0.252    0.126    0.252    0.126 {built-in method bottleneck.reduce.nanmedian}\n",
      "        1    0.120    0.120    0.120    0.120 {method 'clip' of 'numpy.ndarray' objects}\n",
      "        1    0.062    0.062    0.434    0.434 <ipython-input-31-50c2a995abe3>:1(filter_extreme_MAD)\n",
      "        1    0.000    0.000    0.434    0.434 {built-in method builtins.exec}\n",
      "        1    0.000    0.000    0.120    0.120 D:\\bma\\anaconda\\lib\\site-packages\\numpy\\core\\fromnumeric.py:54(_wrapfunc)\n",
      "        1    0.000    0.000    0.120    0.120 D:\\bma\\anaconda\\lib\\site-packages\\numpy\\core\\fromnumeric.py:1903(clip)\n",
      "        1    0.000    0.000    0.434    0.434 <string>:1(<module>)\n",
      "        1    0.000    0.000    0.000    0.000 {built-in method builtins.getattr}\n",
      "        1    0.000    0.000    0.000    0.000 {method 'disable' of '_lsprof.Profiler' objects}\n",
      "\n",
      "\n"
     ]
    }
   ],
   "source": [
    "time_analyse('data = filter_extreme_MAD(test_data,3)')"
   ]
  },
  {
   "cell_type": "code",
   "execution_count": 35,
   "metadata": {},
   "outputs": [
    {
     "ename": "TypeError",
     "evalue": "unsupported format string passed to dict.__format__",
     "output_type": "error",
     "traceback": [
      "\u001b[1;31m---------------------------------------------------------------------------\u001b[0m",
      "\u001b[1;31mTypeError\u001b[0m                                 Traceback (most recent call last)",
      "\u001b[1;32m<ipython-input-35-934723bf6c72>\u001b[0m in \u001b[0;36m<module>\u001b[1;34m\u001b[0m\n\u001b[1;32m----> 1\u001b[1;33m \u001b[0mprint\u001b[0m\u001b[1;33m(\u001b[0m\u001b[1;34m'evel alpha cost {:.2f} s'\u001b[0m\u001b[1;33m.\u001b[0m\u001b[0mformat\u001b[0m\u001b[1;33m(\u001b[0m\u001b[1;33m{\u001b[0m\u001b[1;34m'name'\u001b[0m\u001b[1;33m:\u001b[0m\u001b[1;36m1\u001b[0m\u001b[1;33m}\u001b[0m\u001b[1;33m)\u001b[0m\u001b[1;33m)\u001b[0m\u001b[1;33m\u001b[0m\u001b[1;33m\u001b[0m\u001b[0m\n\u001b[0m",
      "\u001b[1;31mTypeError\u001b[0m: unsupported format string passed to dict.__format__"
     ]
    }
   ],
   "source": []
  },
  {
   "cell_type": "code",
   "execution_count": null,
   "metadata": {},
   "outputs": [],
   "source": []
  }
 ],
 "metadata": {
  "kernelspec": {
   "display_name": "Python 3",
   "language": "python",
   "name": "python3"
  },
  "language_info": {
   "codemirror_mode": {
    "name": "ipython",
    "version": 3
   },
   "file_extension": ".py",
   "mimetype": "text/x-python",
   "name": "python",
   "nbconvert_exporter": "python",
   "pygments_lexer": "ipython3",
   "version": "3.7.4"
  },
  "pycharm": {
   "stem_cell": {
    "cell_type": "raw",
    "metadata": {
     "collapsed": false
    },
    "source": []
   }
  },
  "toc": {
   "base_numbering": 1,
   "nav_menu": {},
   "number_sections": true,
   "sideBar": true,
   "skip_h1_title": false,
   "title_cell": "Table of Contents",
   "title_sidebar": "Contents",
   "toc_cell": false,
   "toc_position": {},
   "toc_section_display": true,
   "toc_window_display": false
  }
 },
 "nbformat": 4,
 "nbformat_minor": 2
}
