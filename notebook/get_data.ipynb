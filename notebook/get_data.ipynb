{
 "cells": [
  {
   "cell_type": "code",
   "execution_count": 1,
   "metadata": {},
   "outputs": [],
   "source": [
    "import pymysql\n",
    "import pandas as pd\n",
    "import numpy as np\n",
    "import time\n",
    "import datetime\n",
    "import os\n",
    "from sqlalchemy import create_engine  "
   ]
  },
  {
   "cell_type": "code",
   "execution_count": 2,
   "metadata": {},
   "outputs": [],
   "source": [
    "db_info = {'user':'bo.ma',  \n",
    "            'password':'123456',  \n",
    "            'host':'192.168.100.141',  \n",
    "            'database':'siyecap'  # 这里我们事先指定了数据库，后续操作只需要表即可\n",
    "            } \n",
    "\n",
    "# 进行查询的语句\n",
    "engine = create_engine('mysql+pymysql://%(user)s:%(password)s@%(host)s/%(database)s?charset=utf8' % db_info,encoding='utf-8') \n",
    "#这里直接使用pymysql连接,echo=True，会显示在加载数据库所执行的SQL语句。"
   ]
  },
  {
   "cell_type": "code",
   "execution_count": 3,
   "metadata": {},
   "outputs": [],
   "source": [
    "data_path = r'F:\\bma\\project\\data'\n",
    "startdate = '2007-01-01'\n",
    "enddate = '2019-12-01'\n",
    "data_name = 'open,close,high,low,tradingstatus,volume,turnoverrate,volumeyuan'\n",
    "sql = '''SELECT symbol,date,%s FROM siyecap.stockprice where date between '%s' and '%s';'''%(data_name,startdate,enddate)"
   ]
  },
  {
   "cell_type": "markdown",
   "metadata": {},
   "source": [
    "## 提取行情数据，整合、处理"
   ]
  },
  {
   "cell_type": "code",
   "execution_count": null,
   "metadata": {},
   "outputs": [],
   "source": [
    "%%time\n",
    "# 提取一个字段大概需要2min 批量提取字段可以减少总时间\n",
    "data = pd.read_sql_query(sql,con = engine)"
   ]
  },
  {
   "cell_type": "code",
   "execution_count": null,
   "metadata": {},
   "outputs": [],
   "source": [
    "data = data.sort_values(by = ['date','symbol'])\n",
    "data.index = range(len(data.index))"
   ]
  },
  {
   "cell_type": "code",
   "execution_count": null,
   "metadata": {},
   "outputs": [],
   "source": [
    "def get_tradedays():\n",
    "    # 返回的为 dataframe 时间为2007/01/01 - 2019/12/01 \n",
    "    tradeday = pd.read_csv(os.path.join(data_path,'tradeday.csv'),parse_dates = ['date'])\n",
    "    \n",
    "    return tradeday\n",
    "\n",
    "def get_tickers():\n",
    "    tickers = pd.read_csv(os.path.join(data_path,'tickers.csv'))\n",
    "    print('there are %s stocks' % len(tickers))\n",
    "    return tickers"
   ]
  },
  {
   "cell_type": "code",
   "execution_count": null,
   "metadata": {},
   "outputs": [],
   "source": [
    "tradeday = get_tradedays()\n",
    "tradeday.set_index(['date'],inplace = True,drop=False)"
   ]
  },
  {
   "cell_type": "code",
   "execution_count": null,
   "metadata": {},
   "outputs": [],
   "source": [
    "widedata = data.pivot_table(columns = ['symbol'], index= ['date'],values=['open'],dropna= False)\n",
    "widedata.columns = widedata.columns.droplevel()\n",
    "# set(widedata.columns)- set(data['symbol'])"
   ]
  },
  {
   "cell_type": "code",
   "execution_count": null,
   "metadata": {},
   "outputs": [],
   "source": [
    "def save_data(data_name_list,startdate =  '2007-01-01',enddate = '2019-12-01',engine = engine): \n",
    "    data_str = ','.join(data_name_list)\n",
    "    sql = '''SELECT symbol,date,%s FROM siyecap.stockprice where date between '%s' and '%s';'''%(data_str,startdate,enddate)\n",
    "    time1 = time.time()\n",
    "    data = pd.read_sql_query(sql,con = engine)\n",
    "    data = data.sort_values(by = ['date','symbol'])\n",
    "    data.index = range(len(data.index))\n",
    "    for data_name in data_name_list:\n",
    "        time10 = time.time()\n",
    "        widedata = data[['symbol','date',data_name]].pivot_table(columns = ['symbol'], index= ['date'],values=[data_name],dropna= False)\n",
    "        widedata.columns = widedata.columns.droplevel()\n",
    "        widedata.to_csv(os.path.join(data_path,'%s.csv')%data_name)\n",
    "        time11 = time.time()\n",
    "        print('getting and reshaping %s data cost %.2f s'%(data_name,time11-time10))\n",
    "    time2 = time.time()\n",
    "    print('getting and reshaping all data cost %.2f s'%(time2-time1))"
   ]
  },
  {
   "cell_type": "code",
   "execution_count": null,
   "metadata": {
    "scrolled": true
   },
   "outputs": [],
   "source": [
    "%%time\n",
    "data_name_list = ['tradingstatus','close','open','high','low','avgprice','volume','adjustfactor','volumeyuan','turnoverrate',\n",
    "                  'pe','pe_ttm','ps','ps_ttm','pb','est_eps']\n",
    "save_data(data_name_list)"
   ]
  },
  {
   "cell_type": "code",
   "execution_count": null,
   "metadata": {},
   "outputs": [],
   "source": [
    "test_close =  pd.read_csv(os.path.join(data_path,'close'+'.csv'),index_col= 0)"
   ]
  },
  {
   "cell_type": "code",
   "execution_count": null,
   "metadata": {},
   "outputs": [],
   "source": [
    "close = pd.read_csv(os.path.join(data_path,'close.csv'),index_col=0)\n",
    "adjustfactor = pd.read_csv(os.path.join(data_path,'adjustfactor.csv'),index_col=0)\n",
    "close_re = close*adjustfactor"
   ]
  },
  {
   "cell_type": "code",
   "execution_count": null,
   "metadata": {},
   "outputs": [],
   "source": [
    "# 将原始数据处理后复权的数据 可以进行前后对比\n",
    "data_path = r'F:\\bma\\project\\data'\n",
    "data_list = ['close', 'open', 'high', 'low']\n",
    "\n",
    "data_dict = {}\n",
    "adjustfactor = pd.read_csv(os.path.join(data_path,'adjustfactor.csv'),index_col=0)\n",
    "for data_name in data_list:\n",
    "    tempdata = pd.read_csv(os.path.join(data_path,data_name+'_raw.csv'),index_col=0)\n",
    "    tempdata = tempdata * adjustfactor\n",
    "    tempdata.to_csv(os.path.join(data_path,data_name+'.csv'))"
   ]
  },
  {
   "cell_type": "markdown",
   "metadata": {},
   "source": [
    "提取指数数据"
   ]
  },
  {
   "cell_type": "code",
   "execution_count": null,
   "metadata": {},
   "outputs": [],
   "source": [
    "sql = '''SELECT symbol,date,%s FROM siyecap.indexprice where date between '%s' and '%s';'''%(data_name,startdate,enddate)\n",
    "data = pd.read_sql_query(sql,con = engine)"
   ]
  },
  {
   "cell_type": "code",
   "execution_count": null,
   "metadata": {},
   "outputs": [],
   "source": [
    "data = data.sort_values(by = ['date','symbol'])\n",
    "data.index = range(len(data.index))\n",
    "data.set_index(['symbol','date'],inplace=True)\n",
    "data.reset_index(inplace=True)"
   ]
  },
  {
   "cell_type": "code",
   "execution_count": null,
   "metadata": {},
   "outputs": [],
   "source": [
    "index_name = ['000001.SH','000300.SH','399001.SH','000016.SH']"
   ]
  },
  {
   "cell_type": "code",
   "execution_count": null,
   "metadata": {},
   "outputs": [],
   "source": [
    "data_name = 'close'\n",
    "time10 = time.time()\n",
    "widedata = data[['symbol','date',data_name]].pivot_table(columns = ['symbol'], index= ['date'],values=[data_name],dropna= False)\n",
    "widedata.columns = widedata.columns.droplevel()\n",
    "# widedata.to_csv(os.path.join(data_path,'%s.csv')%data_name)\n",
    "time11 = time.time()"
   ]
  },
  {
   "cell_type": "code",
   "execution_count": null,
   "metadata": {},
   "outputs": [],
   "source": [
    "widedata.to_csv(os.path.join(data_path,'index_%s.csv')%data_name)"
   ]
  },
  {
   "cell_type": "markdown",
   "metadata": {},
   "source": [
    "获取涨跌停以及停牌数据"
   ]
  },
  {
   "cell_type": "code",
   "execution_count": 19,
   "metadata": {},
   "outputs": [],
   "source": [
    "sql = '''SELECT symbol,date,%s FROM siyecap.stockinfo where date = '2019-10-10';'''%('ipodays') # stockinfo 里面没有科创板\n",
    "data = pd.read_sql_query(sql,con = engine)"
   ]
  },
  {
   "cell_type": "code",
   "execution_count": 4,
   "metadata": {},
   "outputs": [],
   "source": [
    "# 提取科创板的list\n",
    "tickers  = pd.read_csv(os.path.join(data_path,'tickers.csv'))"
   ]
  },
  {
   "cell_type": "code",
   "execution_count": 13,
   "metadata": {},
   "outputs": [],
   "source": [
    "tickers_kechuang = [x for x in  tickers.values.T[0] if x[:3] == '688' ]"
   ]
  },
  {
   "cell_type": "code",
   "execution_count": 26,
   "metadata": {},
   "outputs": [],
   "source": [
    "tickers_kechuang2 = [x for x in  list(set(tickers.values.T[0]) - set(tickers2.values.T[0])) if x[:3] == '688' ]   "
   ]
  },
  {
   "cell_type": "code",
   "execution_count": 28,
   "metadata": {},
   "outputs": [
    {
     "data": {
      "text/plain": [
       "56"
      ]
     },
     "execution_count": 28,
     "metadata": {},
     "output_type": "execute_result"
    }
   ],
   "source": [
    "len(tickers_kechuang2)"
   ]
  },
  {
   "cell_type": "code",
   "execution_count": null,
   "metadata": {},
   "outputs": [],
   "source": []
  }
 ],
 "metadata": {
  "kernelspec": {
   "display_name": "Python 3",
   "language": "python",
   "name": "python3"
  },
  "language_info": {
   "codemirror_mode": {
    "name": "ipython",
    "version": 3
   },
   "file_extension": ".py",
   "mimetype": "text/x-python",
   "name": "python",
   "nbconvert_exporter": "python",
   "pygments_lexer": "ipython3",
   "version": "3.7.4"
  }
 },
 "nbformat": 4,
 "nbformat_minor": 2
}
