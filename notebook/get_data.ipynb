{
 "cells": [
  {
   "cell_type": "code",
   "execution_count": null,
   "metadata": {},
   "outputs": [],
   "source": [
    "import pymysql\n",
    "import pandas as pd\n",
    "import numpy as np\n",
    "import time\n",
    "import datetime\n",
    "import os\n",
    "from sqlalchemy import create_engine  \n",
    "import pprint"
   ]
  },
  {
   "cell_type": "code",
   "execution_count": 61,
   "metadata": {},
   "outputs": [],
   "source": [
    "db_info = {'user':'bo.ma',  \n",
    "            'password':'123456',  \n",
    "            'host':'192.168.100.141',  \n",
    "            'database':'siyecap'  # 这里我们事先指定了数据库，后续操作只需要表即可\n",
    "            } \n",
    "\n",
    "# 进行查询的语句\n",
    "engine = create_engine('mysql+pymysql://%(user)s:%(password)s@%(host)s/%(database)s?charset=utf8' % db_info,encoding='utf-8') \n",
    "#这里直接使用pymysql连接,echo=True，会显示在加载数据库所执行的SQL语句。\n",
    "data_path = r'F:\\bma\\project\\data'\n",
    "startdate = '2007-01-01'\n",
    "enddate = '2019-12-01'\n",
    "data_name = 'open,close,high,low,tradingstatus,volume,turnoverrate,volumeyuan'\n",
    "sql = '''SELECT symbol,date,%s FROM siyecap.stockprice where date between '%s' and '%s';'''%(data_name,startdate,enddate)\n",
    "datasize = (3141,3824)"
   ]
  },
  {
   "cell_type": "code",
   "execution_count": null,
   "metadata": {},
   "outputs": [],
   "source": [
    "def get_data(data_name,table = 'stockprice',engine=engine):\n",
    "    sql = '''SELECT symbol,date,%s FROM siyecap.%s where date between '%s' and '%s';'''%(data_name,table,startdate,enddate)\n",
    "    data = pd.read_sql_query(sql,con = engine)\n",
    "    data = data.sort_values(by = ['date','symbol'])\n",
    "    data.index = range(len(data.index))\n",
    "    widedata = data[['symbol','date',data_name]].pivot_table(columns = ['symbol'], index= ['date'],values=[data_name],dropna= False)\n",
    "    widedata.columns = widedata.columns.droplevel()\n",
    "    return widedata"
   ]
  },
  {
   "cell_type": "markdown",
   "metadata": {},
   "source": [
    "## 提取行情数据，整合、处理"
   ]
  },
  {
   "cell_type": "code",
   "execution_count": null,
   "metadata": {},
   "outputs": [],
   "source": [
    "def get_tradedays():\n",
    "    # 返回的为 dataframe 时间为2007/01/01 - 2019/12/01 \n",
    "    tradeday = pd.read_csv(os.path.join(data_path,'tradeday.csv'),date_parser=['date'])\n",
    "    print('there are %s tradedays' % len(tradeday))\n",
    "    return tradeday\n",
    "\n",
    "def get_tickers():\n",
    "    tickers = pd.read_csv(os.path.join(data_path,'tickers.csv'))\n",
    "    print('there are %s stocks' % len(tickers))\n",
    "    return tickers\n",
    "\n",
    "# 标准的大小 3141 tradeday 3824 stocks\n",
    "tradeday = get_tradedays()\n",
    "tickers = get_tickers()"
   ]
  },
  {
   "cell_type": "code",
   "execution_count": null,
   "metadata": {},
   "outputs": [],
   "source": [
    "def save_data(data_name_list,startdate =  '2007-01-01',enddate = '2019-12-01',engine = engine): \n",
    "    data_str = ','.join(data_name_list)\n",
    "    sql = '''SELECT symbol,date,%s FROM siyecap.stockprice where date between '%s' and '%s';'''%(data_str,startdate,enddate)\n",
    "    time1 = time.time()\n",
    "    data = pd.read_sql_query(sql,con = engine)\n",
    "    data = data.sort_values(by = ['date','symbol'])\n",
    "    data.index = range(len(data.index))\n",
    "    for data_name in data_name_list:\n",
    "        time10 = time.time()\n",
    "        widedata = data[['symbol','date',data_name]].pivot_table(columns = ['symbol'], index= ['date'],values=[data_name],dropna= False)\n",
    "        widedata.columns = widedata.columns.droplevel()\n",
    "        widedata.to_csv(os.path.join(data_path,'%s.csv')%data_name)\n",
    "        time11 = time.time()\n",
    "        print('getting and reshaping %s data cost %.2f s'%(data_name,time11-time10))\n",
    "    time2 = time.time()\n",
    "    print('getting and reshaping all data cost %.2f s'%(time2-time1))"
   ]
  },
  {
   "cell_type": "code",
   "execution_count": null,
   "metadata": {
    "scrolled": true
   },
   "outputs": [],
   "source": [
    "%%time\n",
    "data_name_list = ['tradingstatus','close','open','high','low','avgprice','volume','adjustfactor','volumeyuan','turnoverrate',\n",
    "                  'pe','pe_ttm','ps','ps_ttm','pb','est_eps']\n",
    "save_data(data_name_list)"
   ]
  },
  {
   "cell_type": "code",
   "execution_count": null,
   "metadata": {},
   "outputs": [],
   "source": [
    "test_close =  pd.read_csv(os.path.join(data_path,'close'+'.csv'),index_col= 0)"
   ]
  },
  {
   "cell_type": "code",
   "execution_count": null,
   "metadata": {},
   "outputs": [],
   "source": [
    "close = pd.read_csv(os.path.join(data_path,'close.csv'),index_col=0)\n",
    "adjustfactor = pd.read_csv(os.path.join(data_path,'adjustfactor.csv'),index_col=0)\n",
    "close_re = close*adjustfactor"
   ]
  },
  {
   "cell_type": "code",
   "execution_count": null,
   "metadata": {},
   "outputs": [],
   "source": [
    "# 将原始数据处理后复权的数据 可以进行前后对比\n",
    "data_path = r'F:\\bma\\project\\data'\n",
    "data_list = ['close', 'open', 'high', 'low']\n",
    "\n",
    "data_dict = {}\n",
    "adjustfactor = pd.read_csv(os.path.join(data_path,'adjustfactor.csv'),index_col=0)\n",
    "for data_name in data_list:\n",
    "    tempdata = pd.read_csv(os.path.join(data_path,data_name+'_raw.csv'),index_col=0)\n",
    "    tempdata = tempdata * adjustfactor\n",
    "    tempdata.to_csv(os.path.join(data_path,data_name+'.csv'))"
   ]
  },
  {
   "cell_type": "markdown",
   "metadata": {},
   "source": [
    "提取指数数据"
   ]
  },
  {
   "cell_type": "code",
   "execution_count": null,
   "metadata": {},
   "outputs": [],
   "source": [
    "sql = '''SELECT symbol,date,%s FROM siyecap.indexprice where date between '%s' and '%s';'''%(data_name,startdate,enddate)\n",
    "data = pd.read_sql_query(sql,con = engine)"
   ]
  },
  {
   "cell_type": "code",
   "execution_count": null,
   "metadata": {},
   "outputs": [],
   "source": [
    "data = data.sort_values(by = ['date','symbol'])\n",
    "data.index = range(len(data.index))"
   ]
  },
  {
   "cell_type": "code",
   "execution_count": null,
   "metadata": {},
   "outputs": [],
   "source": [
    "index_name = ['000001.SH','000300.SH','399001.SH','000016.SH']"
   ]
  },
  {
   "cell_type": "code",
   "execution_count": null,
   "metadata": {},
   "outputs": [],
   "source": [
    "data_name = 'close'\n",
    "time10 = time.time()\n",
    "widedata = data[['symbol','date',data_name]].pivot_table(columns = ['symbol'], index= ['date'],values=[data_name],dropna= False)\n",
    "widedata.columns = widedata.columns.droplevel()\n",
    "# widedata.to_csv(os.path.join(data_path,'%s.csv')%data_name)\n",
    "time11 = time.time()"
   ]
  },
  {
   "cell_type": "code",
   "execution_count": null,
   "metadata": {},
   "outputs": [],
   "source": [
    "widedata.to_csv(os.path.join(data_path,'index_%s.csv')%data_name)"
   ]
  },
  {
   "cell_type": "markdown",
   "metadata": {},
   "source": [
    "获取涨跌停--done"
   ]
  },
  {
   "cell_type": "code",
   "execution_count": null,
   "metadata": {},
   "outputs": [],
   "source": [
    "sql = '''SELECT symbol,date,%s FROM siyecap.stockinfo where date = '2019-10-10';'''%('ipodays') # stockinfo 里面没有科创板\n",
    "data = pd.read_sql_query(sql,con = engine)"
   ]
  },
  {
   "cell_type": "code",
   "execution_count": null,
   "metadata": {},
   "outputs": [],
   "source": [
    "# 提取科创板的list 目前先不做科创板 做一个过滤科创版的filter\n",
    "tickers  = pd.read_csv(os.path.join(data_path,'tickers.csv'))\n",
    "tickers2 = data['symbol']"
   ]
  },
  {
   "cell_type": "code",
   "execution_count": null,
   "metadata": {},
   "outputs": [],
   "source": [
    "tickers_kechuang = [x for x in  tickers.values.T[0] if x[:3] == '688' ]"
   ]
  },
  {
   "cell_type": "code",
   "execution_count": null,
   "metadata": {},
   "outputs": [],
   "source": [
    "# 去掉科创板后，涨跌幅的限制就比较处理，只要涨跌幅超过9.5 就认为无法买入；科创板有5天的限制，五天内涨跌幅不受限。\n",
    "tickers_kechuang = pd.DataFrame({'symbol':tickers_kechuang})\n",
    "tickers_kechuang.to_csv(os.path.join(data_path,'kechuangban_list.csv'))"
   ]
  },
  {
   "cell_type": "code",
   "execution_count": null,
   "metadata": {},
   "outputs": [],
   "source": [
    "tickers_kechuang2 = [x for x in  list(set(tickers.values.T[0]) - set(tickers2.values.T[0])) if x[:3] == '688' ]   "
   ]
  },
  {
   "cell_type": "markdown",
   "metadata": {},
   "source": [
    "获取每天的涨跌幅"
   ]
  },
  {
   "cell_type": "code",
   "execution_count": null,
   "metadata": {},
   "outputs": [],
   "source": [
    "changepct = get_data('changepct')"
   ]
  },
  {
   "cell_type": "code",
   "execution_count": 24,
   "metadata": {},
   "outputs": [],
   "source": [
    "changepct.to_csv(os.path.join(data_path,'changepct.csv'))"
   ]
  },
  {
   "cell_type": "markdown",
   "metadata": {},
   "source": [
    "涨跌停-利用high，low以及volumeyuan计算"
   ]
  },
  {
   "cell_type": "code",
   "execution_count": 26,
   "metadata": {},
   "outputs": [],
   "source": [
    "high = pd.read_csv(os.path.join(data_path,'high.csv'),index_col=0)\n",
    "low = pd.read_csv(os.path.join(data_path,'low.csv'),index_col=0)\n",
    "volumeyuan = pd.read_csv(os.path.join(data_path,'volumeyuan.csv'),index_col=0)\n",
    "changepct = pd.read_csv(os.path.join(data_path,'changepct.csv'),index_col=0)"
   ]
  },
  {
   "cell_type": "code",
   "execution_count": 58,
   "metadata": {},
   "outputs": [],
   "source": [
    "# 这里设置的是一字涨停或者一字跌停 ；盘中或者盘尾也是可以建仓的\n",
    "upperLimit = ((high == low) & (changepct > 0)) \n",
    "downLimit = ((high == low) & (changepct < 0)) \n",
    "\n",
    "upperLimit.to_csv(os.path.join(data_path,'upperLimit.csv'))\n",
    "downLimit.to_csv(os.path.join(data_path,'downLimit.csv'))"
   ]
  },
  {
   "cell_type": "markdown",
   "metadata": {},
   "source": [
    "获取行业分类--done"
   ]
  },
  {
   "cell_type": "code",
   "execution_count": null,
   "metadata": {},
   "outputs": [],
   "source": [
    "sql = '''SELECT symbol,date,%s FROM siyecap.%s where date between '%s' and '%s';'''%('quant1level1','citicscomponent',startdate,enddate) # stockinfo 里面没有科创板\n",
    "data = pd.read_sql_query(sql,con = engine)"
   ]
  },
  {
   "cell_type": "code",
   "execution_count": null,
   "metadata": {},
   "outputs": [],
   "source": [
    "data = data.sort_values(by = ['date','symbol'])\n",
    "data.index = range(len(data.index))"
   ]
  },
  {
   "cell_type": "code",
   "execution_count": null,
   "metadata": {},
   "outputs": [],
   "source": [
    "widedata = data.pivot(columns = 'symbol', index= 'date')\n",
    "widedata.columns = widedata.columns.droplevel()\n",
    "widedata.index = [ str(x.date()) for x in widedata.index]\n",
    "widedata = widedata.reindex(index = list(tradeday.values.T[0]),columns=list(tickers.values.T[0]))\n",
    "widedata[(widedata == '')] = np.nan\n",
    "widedata.to_csv(os.path.join(data_path,'quant1level1.csv'))"
   ]
  },
  {
   "cell_type": "code",
   "execution_count": null,
   "metadata": {},
   "outputs": [],
   "source": [
    "quantlevel_list = pd.read_csv(os.path.join(data_path,'quantlevelname.csv'),encoding='gbk')"
   ]
  },
  {
   "cell_type": "code",
   "execution_count": null,
   "metadata": {},
   "outputs": [],
   "source": [
    "def get_industry_dummy():\n",
    "    quantlevel_list = pd.read_csv(os.path.join(data_path,'quantlevelname.csv'),encoding='gbk')\n",
    "    qauntlevel = pd.read_csv(os.path.join(data_path,'quant1level1.csv'),index_col=0,low_memory=False)\n",
    "    industry_dummy = {}\n",
    "    for industry in quantlevel_list.iloc[:,0]:\n",
    "        print(f'{industry} generate done!')\n",
    "        industry_dummy.update({industry:qauntlevel == industry})\n",
    "    return industry_dummy"
   ]
  },
  {
   "cell_type": "code",
   "execution_count": null,
   "metadata": {},
   "outputs": [],
   "source": [
    "get_industry_dummy()"
   ]
  },
  {
   "cell_type": "markdown",
   "metadata": {},
   "source": [
    "获取停牌数据"
   ]
  },
  {
   "cell_type": "code",
   "execution_count": null,
   "metadata": {},
   "outputs": [],
   "source": [
    "volumeyuan = pd.read_csv(os.path.join(data_path,'volumeyuan.csv'),index_col=0)\n",
    "suspendFlag = volumeyuan ==0\n",
    "suspendFlag.to_csv(os.path.join(data_path,'volumeyuan.csv'))"
   ]
  },
  {
   "cell_type": "code",
   "execution_count": null,
   "metadata": {},
   "outputs": [],
   "source": [
    "suspendFlag = pd.read_csv(os.path.join(data_path,'suspend.csv'))"
   ]
  },
  {
   "cell_type": "markdown",
   "metadata": {},
   "source": [
    "获取ST数据"
   ]
  },
  {
   "cell_type": "code",
   "execution_count": 59,
   "metadata": {},
   "outputs": [],
   "source": [
    "STFlag = get_data('isST','stockinfo')"
   ]
  },
  {
   "cell_type": "code",
   "execution_count": 60,
   "metadata": {},
   "outputs": [
    {
     "data": {
      "text/html": [
       "<div>\n",
       "<style scoped>\n",
       "    .dataframe tbody tr th:only-of-type {\n",
       "        vertical-align: middle;\n",
       "    }\n",
       "\n",
       "    .dataframe tbody tr th {\n",
       "        vertical-align: top;\n",
       "    }\n",
       "\n",
       "    .dataframe thead th {\n",
       "        text-align: right;\n",
       "    }\n",
       "</style>\n",
       "<table border=\"1\" class=\"dataframe\">\n",
       "  <thead>\n",
       "    <tr style=\"text-align: right;\">\n",
       "      <th>symbol</th>\n",
       "      <th>000001.SZ</th>\n",
       "      <th>000002.SZ</th>\n",
       "      <th>000004.SZ</th>\n",
       "      <th>000005.SZ</th>\n",
       "      <th>000006.SZ</th>\n",
       "      <th>000007.SZ</th>\n",
       "      <th>000008.SZ</th>\n",
       "      <th>000009.SZ</th>\n",
       "      <th>000010.SZ</th>\n",
       "      <th>000011.SZ</th>\n",
       "      <th>...</th>\n",
       "      <th>603988.SH</th>\n",
       "      <th>603989.SH</th>\n",
       "      <th>603990.SH</th>\n",
       "      <th>603991.SH</th>\n",
       "      <th>603992.SH</th>\n",
       "      <th>603993.SH</th>\n",
       "      <th>603996.SH</th>\n",
       "      <th>603997.SH</th>\n",
       "      <th>603998.SH</th>\n",
       "      <th>603999.SH</th>\n",
       "    </tr>\n",
       "    <tr>\n",
       "      <th>date</th>\n",
       "      <th></th>\n",
       "      <th></th>\n",
       "      <th></th>\n",
       "      <th></th>\n",
       "      <th></th>\n",
       "      <th></th>\n",
       "      <th></th>\n",
       "      <th></th>\n",
       "      <th></th>\n",
       "      <th></th>\n",
       "      <th></th>\n",
       "      <th></th>\n",
       "      <th></th>\n",
       "      <th></th>\n",
       "      <th></th>\n",
       "      <th></th>\n",
       "      <th></th>\n",
       "      <th></th>\n",
       "      <th></th>\n",
       "      <th></th>\n",
       "      <th></th>\n",
       "    </tr>\n",
       "  </thead>\n",
       "  <tbody>\n",
       "    <tr>\n",
       "      <td>2010-01-04</td>\n",
       "      <td>0.0</td>\n",
       "      <td>0.0</td>\n",
       "      <td>0.0</td>\n",
       "      <td>0.0</td>\n",
       "      <td>0.0</td>\n",
       "      <td>0.0</td>\n",
       "      <td>0.0</td>\n",
       "      <td>0.0</td>\n",
       "      <td>0.0</td>\n",
       "      <td>0.0</td>\n",
       "      <td>...</td>\n",
       "      <td>NaN</td>\n",
       "      <td>NaN</td>\n",
       "      <td>NaN</td>\n",
       "      <td>NaN</td>\n",
       "      <td>NaN</td>\n",
       "      <td>NaN</td>\n",
       "      <td>NaN</td>\n",
       "      <td>NaN</td>\n",
       "      <td>NaN</td>\n",
       "      <td>NaN</td>\n",
       "    </tr>\n",
       "    <tr>\n",
       "      <td>2010-01-05</td>\n",
       "      <td>0.0</td>\n",
       "      <td>0.0</td>\n",
       "      <td>0.0</td>\n",
       "      <td>0.0</td>\n",
       "      <td>0.0</td>\n",
       "      <td>0.0</td>\n",
       "      <td>0.0</td>\n",
       "      <td>0.0</td>\n",
       "      <td>0.0</td>\n",
       "      <td>0.0</td>\n",
       "      <td>...</td>\n",
       "      <td>NaN</td>\n",
       "      <td>NaN</td>\n",
       "      <td>NaN</td>\n",
       "      <td>NaN</td>\n",
       "      <td>NaN</td>\n",
       "      <td>NaN</td>\n",
       "      <td>NaN</td>\n",
       "      <td>NaN</td>\n",
       "      <td>NaN</td>\n",
       "      <td>NaN</td>\n",
       "    </tr>\n",
       "    <tr>\n",
       "      <td>2010-01-06</td>\n",
       "      <td>0.0</td>\n",
       "      <td>0.0</td>\n",
       "      <td>0.0</td>\n",
       "      <td>0.0</td>\n",
       "      <td>0.0</td>\n",
       "      <td>0.0</td>\n",
       "      <td>0.0</td>\n",
       "      <td>0.0</td>\n",
       "      <td>0.0</td>\n",
       "      <td>0.0</td>\n",
       "      <td>...</td>\n",
       "      <td>NaN</td>\n",
       "      <td>NaN</td>\n",
       "      <td>NaN</td>\n",
       "      <td>NaN</td>\n",
       "      <td>NaN</td>\n",
       "      <td>NaN</td>\n",
       "      <td>NaN</td>\n",
       "      <td>NaN</td>\n",
       "      <td>NaN</td>\n",
       "      <td>NaN</td>\n",
       "    </tr>\n",
       "    <tr>\n",
       "      <td>2010-01-07</td>\n",
       "      <td>0.0</td>\n",
       "      <td>0.0</td>\n",
       "      <td>0.0</td>\n",
       "      <td>0.0</td>\n",
       "      <td>0.0</td>\n",
       "      <td>0.0</td>\n",
       "      <td>0.0</td>\n",
       "      <td>0.0</td>\n",
       "      <td>0.0</td>\n",
       "      <td>0.0</td>\n",
       "      <td>...</td>\n",
       "      <td>NaN</td>\n",
       "      <td>NaN</td>\n",
       "      <td>NaN</td>\n",
       "      <td>NaN</td>\n",
       "      <td>NaN</td>\n",
       "      <td>NaN</td>\n",
       "      <td>NaN</td>\n",
       "      <td>NaN</td>\n",
       "      <td>NaN</td>\n",
       "      <td>NaN</td>\n",
       "    </tr>\n",
       "    <tr>\n",
       "      <td>2010-01-08</td>\n",
       "      <td>0.0</td>\n",
       "      <td>0.0</td>\n",
       "      <td>0.0</td>\n",
       "      <td>0.0</td>\n",
       "      <td>0.0</td>\n",
       "      <td>0.0</td>\n",
       "      <td>0.0</td>\n",
       "      <td>0.0</td>\n",
       "      <td>0.0</td>\n",
       "      <td>0.0</td>\n",
       "      <td>...</td>\n",
       "      <td>NaN</td>\n",
       "      <td>NaN</td>\n",
       "      <td>NaN</td>\n",
       "      <td>NaN</td>\n",
       "      <td>NaN</td>\n",
       "      <td>NaN</td>\n",
       "      <td>NaN</td>\n",
       "      <td>NaN</td>\n",
       "      <td>NaN</td>\n",
       "      <td>NaN</td>\n",
       "    </tr>\n",
       "    <tr>\n",
       "      <td>...</td>\n",
       "      <td>...</td>\n",
       "      <td>...</td>\n",
       "      <td>...</td>\n",
       "      <td>...</td>\n",
       "      <td>...</td>\n",
       "      <td>...</td>\n",
       "      <td>...</td>\n",
       "      <td>...</td>\n",
       "      <td>...</td>\n",
       "      <td>...</td>\n",
       "      <td>...</td>\n",
       "      <td>...</td>\n",
       "      <td>...</td>\n",
       "      <td>...</td>\n",
       "      <td>...</td>\n",
       "      <td>...</td>\n",
       "      <td>...</td>\n",
       "      <td>...</td>\n",
       "      <td>...</td>\n",
       "      <td>...</td>\n",
       "      <td>...</td>\n",
       "    </tr>\n",
       "    <tr>\n",
       "      <td>2019-11-25</td>\n",
       "      <td>0.0</td>\n",
       "      <td>0.0</td>\n",
       "      <td>0.0</td>\n",
       "      <td>0.0</td>\n",
       "      <td>0.0</td>\n",
       "      <td>0.0</td>\n",
       "      <td>0.0</td>\n",
       "      <td>0.0</td>\n",
       "      <td>1.0</td>\n",
       "      <td>0.0</td>\n",
       "      <td>...</td>\n",
       "      <td>0.0</td>\n",
       "      <td>0.0</td>\n",
       "      <td>0.0</td>\n",
       "      <td>0.0</td>\n",
       "      <td>0.0</td>\n",
       "      <td>0.0</td>\n",
       "      <td>1.0</td>\n",
       "      <td>0.0</td>\n",
       "      <td>0.0</td>\n",
       "      <td>0.0</td>\n",
       "    </tr>\n",
       "    <tr>\n",
       "      <td>2019-11-26</td>\n",
       "      <td>0.0</td>\n",
       "      <td>0.0</td>\n",
       "      <td>0.0</td>\n",
       "      <td>0.0</td>\n",
       "      <td>0.0</td>\n",
       "      <td>0.0</td>\n",
       "      <td>0.0</td>\n",
       "      <td>0.0</td>\n",
       "      <td>1.0</td>\n",
       "      <td>0.0</td>\n",
       "      <td>...</td>\n",
       "      <td>0.0</td>\n",
       "      <td>0.0</td>\n",
       "      <td>0.0</td>\n",
       "      <td>0.0</td>\n",
       "      <td>0.0</td>\n",
       "      <td>0.0</td>\n",
       "      <td>1.0</td>\n",
       "      <td>0.0</td>\n",
       "      <td>0.0</td>\n",
       "      <td>0.0</td>\n",
       "    </tr>\n",
       "    <tr>\n",
       "      <td>2019-11-27</td>\n",
       "      <td>0.0</td>\n",
       "      <td>0.0</td>\n",
       "      <td>0.0</td>\n",
       "      <td>0.0</td>\n",
       "      <td>0.0</td>\n",
       "      <td>0.0</td>\n",
       "      <td>0.0</td>\n",
       "      <td>0.0</td>\n",
       "      <td>1.0</td>\n",
       "      <td>0.0</td>\n",
       "      <td>...</td>\n",
       "      <td>0.0</td>\n",
       "      <td>0.0</td>\n",
       "      <td>0.0</td>\n",
       "      <td>0.0</td>\n",
       "      <td>0.0</td>\n",
       "      <td>0.0</td>\n",
       "      <td>1.0</td>\n",
       "      <td>0.0</td>\n",
       "      <td>0.0</td>\n",
       "      <td>0.0</td>\n",
       "    </tr>\n",
       "    <tr>\n",
       "      <td>2019-11-28</td>\n",
       "      <td>0.0</td>\n",
       "      <td>0.0</td>\n",
       "      <td>0.0</td>\n",
       "      <td>0.0</td>\n",
       "      <td>0.0</td>\n",
       "      <td>0.0</td>\n",
       "      <td>0.0</td>\n",
       "      <td>0.0</td>\n",
       "      <td>1.0</td>\n",
       "      <td>0.0</td>\n",
       "      <td>...</td>\n",
       "      <td>0.0</td>\n",
       "      <td>0.0</td>\n",
       "      <td>0.0</td>\n",
       "      <td>0.0</td>\n",
       "      <td>0.0</td>\n",
       "      <td>0.0</td>\n",
       "      <td>1.0</td>\n",
       "      <td>0.0</td>\n",
       "      <td>0.0</td>\n",
       "      <td>0.0</td>\n",
       "    </tr>\n",
       "    <tr>\n",
       "      <td>2019-11-29</td>\n",
       "      <td>0.0</td>\n",
       "      <td>0.0</td>\n",
       "      <td>0.0</td>\n",
       "      <td>0.0</td>\n",
       "      <td>0.0</td>\n",
       "      <td>0.0</td>\n",
       "      <td>0.0</td>\n",
       "      <td>0.0</td>\n",
       "      <td>1.0</td>\n",
       "      <td>0.0</td>\n",
       "      <td>...</td>\n",
       "      <td>0.0</td>\n",
       "      <td>0.0</td>\n",
       "      <td>0.0</td>\n",
       "      <td>0.0</td>\n",
       "      <td>0.0</td>\n",
       "      <td>0.0</td>\n",
       "      <td>1.0</td>\n",
       "      <td>0.0</td>\n",
       "      <td>0.0</td>\n",
       "      <td>0.0</td>\n",
       "    </tr>\n",
       "  </tbody>\n",
       "</table>\n",
       "<p>2410 rows × 3726 columns</p>\n",
       "</div>"
      ],
      "text/plain": [
       "symbol      000001.SZ  000002.SZ  000004.SZ  000005.SZ  000006.SZ  000007.SZ  \\\n",
       "date                                                                           \n",
       "2010-01-04        0.0        0.0        0.0        0.0        0.0        0.0   \n",
       "2010-01-05        0.0        0.0        0.0        0.0        0.0        0.0   \n",
       "2010-01-06        0.0        0.0        0.0        0.0        0.0        0.0   \n",
       "2010-01-07        0.0        0.0        0.0        0.0        0.0        0.0   \n",
       "2010-01-08        0.0        0.0        0.0        0.0        0.0        0.0   \n",
       "...               ...        ...        ...        ...        ...        ...   \n",
       "2019-11-25        0.0        0.0        0.0        0.0        0.0        0.0   \n",
       "2019-11-26        0.0        0.0        0.0        0.0        0.0        0.0   \n",
       "2019-11-27        0.0        0.0        0.0        0.0        0.0        0.0   \n",
       "2019-11-28        0.0        0.0        0.0        0.0        0.0        0.0   \n",
       "2019-11-29        0.0        0.0        0.0        0.0        0.0        0.0   \n",
       "\n",
       "symbol      000008.SZ  000009.SZ  000010.SZ  000011.SZ  ...  603988.SH  \\\n",
       "date                                                    ...              \n",
       "2010-01-04        0.0        0.0        0.0        0.0  ...        NaN   \n",
       "2010-01-05        0.0        0.0        0.0        0.0  ...        NaN   \n",
       "2010-01-06        0.0        0.0        0.0        0.0  ...        NaN   \n",
       "2010-01-07        0.0        0.0        0.0        0.0  ...        NaN   \n",
       "2010-01-08        0.0        0.0        0.0        0.0  ...        NaN   \n",
       "...               ...        ...        ...        ...  ...        ...   \n",
       "2019-11-25        0.0        0.0        1.0        0.0  ...        0.0   \n",
       "2019-11-26        0.0        0.0        1.0        0.0  ...        0.0   \n",
       "2019-11-27        0.0        0.0        1.0        0.0  ...        0.0   \n",
       "2019-11-28        0.0        0.0        1.0        0.0  ...        0.0   \n",
       "2019-11-29        0.0        0.0        1.0        0.0  ...        0.0   \n",
       "\n",
       "symbol      603989.SH  603990.SH  603991.SH  603992.SH  603993.SH  603996.SH  \\\n",
       "date                                                                           \n",
       "2010-01-04        NaN        NaN        NaN        NaN        NaN        NaN   \n",
       "2010-01-05        NaN        NaN        NaN        NaN        NaN        NaN   \n",
       "2010-01-06        NaN        NaN        NaN        NaN        NaN        NaN   \n",
       "2010-01-07        NaN        NaN        NaN        NaN        NaN        NaN   \n",
       "2010-01-08        NaN        NaN        NaN        NaN        NaN        NaN   \n",
       "...               ...        ...        ...        ...        ...        ...   \n",
       "2019-11-25        0.0        0.0        0.0        0.0        0.0        1.0   \n",
       "2019-11-26        0.0        0.0        0.0        0.0        0.0        1.0   \n",
       "2019-11-27        0.0        0.0        0.0        0.0        0.0        1.0   \n",
       "2019-11-28        0.0        0.0        0.0        0.0        0.0        1.0   \n",
       "2019-11-29        0.0        0.0        0.0        0.0        0.0        1.0   \n",
       "\n",
       "symbol      603997.SH  603998.SH  603999.SH  \n",
       "date                                         \n",
       "2010-01-04        NaN        NaN        NaN  \n",
       "2010-01-05        NaN        NaN        NaN  \n",
       "2010-01-06        NaN        NaN        NaN  \n",
       "2010-01-07        NaN        NaN        NaN  \n",
       "2010-01-08        NaN        NaN        NaN  \n",
       "...               ...        ...        ...  \n",
       "2019-11-25        0.0        0.0        0.0  \n",
       "2019-11-26        0.0        0.0        0.0  \n",
       "2019-11-27        0.0        0.0        0.0  \n",
       "2019-11-28        0.0        0.0        0.0  \n",
       "2019-11-29        0.0        0.0        0.0  \n",
       "\n",
       "[2410 rows x 3726 columns]"
      ]
     },
     "execution_count": 60,
     "metadata": {},
     "output_type": "execute_result"
    }
   ],
   "source": [
    "# 不同表的数据大小不一样需要进行reindex \n",
    "STFlag"
   ]
  },
  {
   "cell_type": "code",
   "execution_count": 77,
   "metadata": {},
   "outputs": [],
   "source": [
    "STFlag.index = [str(x) for x in list(STFlag.index)]"
   ]
  },
  {
   "cell_type": "code",
   "execution_count": 80,
   "metadata": {},
   "outputs": [],
   "source": [
    "STFlag = STFlag.reindex(index = list(tradeday.date) ,columns=list(tickers.symbol))"
   ]
  },
  {
   "cell_type": "code",
   "execution_count": 81,
   "metadata": {},
   "outputs": [],
   "source": [
    "STFlag.to_csv(os.path.join(data_path,'ST.csv'))"
   ]
  },
  {
   "cell_type": "code",
   "execution_count": null,
   "metadata": {},
   "outputs": [],
   "source": []
  }
 ],
 "metadata": {
  "kernelspec": {
   "display_name": "Python 3",
   "language": "python",
   "name": "python3"
  },
  "language_info": {
   "codemirror_mode": {
    "name": "ipython",
    "version": 3
   },
   "file_extension": ".py",
   "mimetype": "text/x-python",
   "name": "python",
   "nbconvert_exporter": "python",
   "pygments_lexer": "ipython3",
   "version": "3.7.4"
  }
 },
 "nbformat": 4,
 "nbformat_minor": 2
}
