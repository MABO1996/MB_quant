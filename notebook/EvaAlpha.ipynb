{
 "cells": [
  {
   "cell_type": "code",
   "execution_count": 77,
   "metadata": {},
   "outputs": [],
   "source": [
    "import pandas as pd\n",
    "import numpy as np\n",
    "import time\n",
    "import bottleneck as bk\n",
    "import cProfile\n",
    "import pstats\n",
    "import os"
   ]
  },
  {
   "cell_type": "code",
   "execution_count": 86,
   "metadata": {},
   "outputs": [],
   "source": [
    "def ts_delay(data,period):\n",
    "    data_cols = data.shape[1]\n",
    "    pre_data = np.zeros((period,data_cols))\n",
    "    pre_data[:] = np.nan\n",
    "    result = np.vstack([pre_data,data[:-period] ])\n",
    "    return result\n",
    "\n",
    "def ts_delta(data,period):\n",
    "    pre_data = ts_delay(data,period)\n",
    "    delta = data - pre_data\n",
    "    return delta\n",
    "\n",
    "class EvaAlpha(object):\n",
    "\n",
    "    def __init__(self):\n",
    "        self.data_path = r'F:\\bma\\project\\data'\n",
    "        self.close = pd.read_csv(os.path.join(self.data_path,'close.csv'),index_col=0)\n",
    "        self.open = pd.read_csv(os.path.join(self.data_path,'open.csv'),index_col=0)\n",
    "\n",
    "    def get_ret(self,position):\n",
    "        # 根据持仓计算收益率\n",
    "        # todo check一下\n",
    "        c2c_ret = self.close.diff()/self.close.shift()\n",
    "        c2o_ret = (self.close - self.open)/self.open\n",
    "        o2c_ret = (self.open - self.close.shift())/self.close.shift()\n",
    "        # 区分不同的仓位 持有的 买入的 以及卖出的\n",
    "        holdPosition = (( ts_delay(position,1) - position)>0) * ts_delay(position,1)\n",
    "        buyPosition = (( ts_delay(position,1) - position)>0) * (position - ts_delay(position,1))\n",
    "        sellPosition = (( ts_delay(position,1) - position)<0) * (position - ts_delay(position,1))\n",
    "        # 不同类型的持仓对应不同的收益率\n",
    "        holdRet = np.nansum(holdPosition*c2c_ret,axis=1)\n",
    "        buyRet = np.nansum(buyPosition*c2o_ret,axis=1)\n",
    "        sellRet = np.nansum(sellPosition*o2c_ret,axis=1)\n",
    "        ret = holdRet + buyRet + sellRet\n",
    "        return ret"
   ]
  },
  {
   "cell_type": "code",
   "execution_count": 6,
   "metadata": {},
   "outputs": [],
   "source": [
    "def insert_nan(data,percent):\n",
    "    a = data.ravel()\n",
    "    nan_numbers = round(len(a)*percent)\n",
    "    index_list = np.random.randint(0,len(a)-1,nan_numbers)\n",
    "    a[index_list] = np.nan\n",
    "    \n",
    "def get_test_data(a,b,per = 0.2):\n",
    "    test_data = np.random.random((a,b))\n",
    "    insert_nan(test_data,per)\n",
    "    return test_data"
   ]
  },
  {
   "cell_type": "code",
   "execution_count": 89,
   "metadata": {},
   "outputs": [],
   "source": [
    "test_data = get_test_data(3141,3824)\n",
    "test_data2 = get_test_data(2000,4000)\n",
    "test_data3 = get_test_data(2000,4000)"
   ]
  },
  {
   "cell_type": "code",
   "execution_count": 93,
   "metadata": {},
   "outputs": [],
   "source": [
    "test_data = (test_data.T/(bk.nansum(test_data,axis = 1))).T"
   ]
  },
  {
   "cell_type": "code",
   "execution_count": 94,
   "metadata": {
    "scrolled": true
   },
   "outputs": [
    {
     "name": "stderr",
     "output_type": "stream",
     "text": [
      "D:\\bma\\anaconda\\lib\\site-packages\\ipykernel_launcher.py:2: RuntimeWarning: invalid value encountered in greater\n",
      "  \n",
      "D:\\bma\\anaconda\\lib\\site-packages\\ipykernel_launcher.py:2: RuntimeWarning: invalid value encountered in less_equal\n",
      "  \n",
      "D:\\bma\\anaconda\\lib\\site-packages\\ipykernel_launcher.py:3: RuntimeWarning: invalid value encountered in greater\n",
      "  This is separate from the ipykernel package so we can avoid doing imports until\n",
      "D:\\bma\\anaconda\\lib\\site-packages\\ipykernel_launcher.py:4: RuntimeWarning: invalid value encountered in less\n",
      "  after removing the cwd from sys.path.\n"
     ]
    }
   ],
   "source": [
    "position = test_data\n",
    "holdPosition = (ts_delta(position,1)>0) * ts_delay(position,1) + (ts_delta(position,1)<=0) * position \n",
    "buyPosition = (ts_delta(position,1)>0) * (ts_delta(position,1))\n",
    "sellPosition = (ts_delta(position,1)<0) * (ts_delta(position,1))"
   ]
  },
  {
   "cell_type": "code",
   "execution_count": 75,
   "metadata": {},
   "outputs": [
    {
     "data": {
      "text/plain": [
       "array([[nan, nan, nan, ..., nan, nan, nan],\n",
       "       [ 0., nan,  0., ...,  0., nan,  0.],\n",
       "       [ 0., nan,  0., ...,  0., nan,  0.],\n",
       "       ...,\n",
       "       [ 0., nan, nan, ...,  0.,  0.,  0.],\n",
       "       [ 0., nan, nan, ...,  0., nan,  0.],\n",
       "       [ 0.,  0.,  0., ...,  0., nan,  0.]])"
      ]
     },
     "execution_count": 75,
     "metadata": {},
     "output_type": "execute_result"
    }
   ],
   "source": [
    "holdPosition + buyPosition - position\n",
    "# 持有的仓位加上增加的仓位等于今日的仓位 减少的仓位已经不体现今天的仓位"
   ]
  },
  {
   "cell_type": "code",
   "execution_count": 87,
   "metadata": {},
   "outputs": [],
   "source": [
    "testalpha = EvaAlpha()"
   ]
  },
  {
   "cell_type": "code",
   "execution_count": 97,
   "metadata": {},
   "outputs": [
    {
     "name": "stderr",
     "output_type": "stream",
     "text": [
      "D:\\bma\\anaconda\\lib\\site-packages\\ipykernel_launcher.py:27: RuntimeWarning: invalid value encountered in greater\n",
      "D:\\bma\\anaconda\\lib\\site-packages\\ipykernel_launcher.py:28: RuntimeWarning: invalid value encountered in greater\n",
      "D:\\bma\\anaconda\\lib\\site-packages\\ipykernel_launcher.py:29: RuntimeWarning: invalid value encountered in less\n"
     ]
    }
   ],
   "source": [
    "ret = testalpha.get_ret(position)"
   ]
  },
  {
   "cell_type": "code",
   "execution_count": 96,
   "metadata": {},
   "outputs": [
    {
     "data": {
      "text/plain": [
       "array([1., 1., 1., ..., 1., 1., 1.])"
      ]
     },
     "execution_count": 96,
     "metadata": {},
     "output_type": "execute_result"
    }
   ],
   "source": [
    "bk.nansum(position,axis = 1)"
   ]
  },
  {
   "cell_type": "code",
   "execution_count": 98,
   "metadata": {},
   "outputs": [],
   "source": [
    "def get_netvalue(ret):\n",
    "    # 根据收益率计算净值\n",
    "    net_value = np.cumprod(ret + 1)\n",
    "    return net_value"
   ]
  },
  {
   "cell_type": "code",
   "execution_count": 99,
   "metadata": {},
   "outputs": [],
   "source": [
    "net = get_netvalue(ret)"
   ]
  },
  {
   "cell_type": "code",
   "execution_count": 100,
   "metadata": {},
   "outputs": [],
   "source": [
    "import matplotlib.pyplot as plt"
   ]
  },
  {
   "cell_type": "code",
   "execution_count": 101,
   "metadata": {},
   "outputs": [
    {
     "data": {
      "text/plain": [
       "[<matplotlib.lines.Line2D at 0x27801067348>]"
      ]
     },
     "execution_count": 101,
     "metadata": {},
     "output_type": "execute_result"
    },
    {
     "data": {
      "image/png": "[encoded data removed]",
      "text/plain": [
       "<Figure size 432x288 with 1 Axes>"
      ]
     },
     "metadata": {
      "needs_background": "light"
     },
     "output_type": "display_data"
    }
   ],
   "source": [
    "plt.plot(net)"
   ]
  },
  {
   "cell_type": "code",
   "execution_count": 104,
   "metadata": {},
   "outputs": [],
   "source": [
    "lowBond = np.linspace(0,1,6)"
   ]
  },
  {
   "cell_type": "code",
   "execution_count": 106,
   "metadata": {},
   "outputs": [
    {
     "data": {
      "text/plain": [
       "array([0.2, 0.4, 0.6, 0.8, 1. , 1.2])"
      ]
     },
     "execution_count": 106,
     "metadata": {},
     "output_type": "execute_result"
    }
   ],
   "source": [
    "lowBond + lowBond[1]"
   ]
  },
  {
   "cell_type": "code",
   "execution_count": null,
   "metadata": {},
   "outputs": [],
   "source": []
  }
 ],
 "metadata": {
  "kernelspec": {
   "display_name": "Python 3",
   "language": "python",
   "name": "python3"
  },
  "language_info": {
   "codemirror_mode": {
    "name": "ipython",
    "version": 3
   },
   "file_extension": ".py",
   "mimetype": "text/x-python",
   "name": "python",
   "nbconvert_exporter": "python",
   "pygments_lexer": "ipython3",
   "version": "3.7.1"
  },
  "toc": {
   "base_numbering": 1,
   "nav_menu": {},
   "number_sections": true,
   "sideBar": true,
   "skip_h1_title": false,
   "title_cell": "Table of Contents",
   "title_sidebar": "Contents",
   "toc_cell": false,
   "toc_position": {},
   "toc_section_display": true,
   "toc_window_display": false
  }
 },
 "nbformat": 4,
 "nbformat_minor": 2
}
